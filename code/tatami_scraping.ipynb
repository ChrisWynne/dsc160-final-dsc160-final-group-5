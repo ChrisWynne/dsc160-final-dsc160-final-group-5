{
 "cells": [
  {
   "cell_type": "code",
   "execution_count": 1,
   "metadata": {},
   "outputs": [
    {
     "name": "stdout",
     "output_type": "stream",
     "text": [
      "Collecting psaw\n",
      "  Downloading psaw-0.0.12-py3-none-any.whl (15 kB)\n",
      "Requirement already satisfied: requests in c:\\users\\matthew\\anaconda3\\lib\\site-packages (from psaw) (2.22.0)\n",
      "Requirement already satisfied: Click in c:\\users\\matthew\\anaconda3\\lib\\site-packages (from psaw) (7.0)\n",
      "Requirement already satisfied: urllib3!=1.25.0,!=1.25.1,<1.26,>=1.21.1 in c:\\users\\matthew\\anaconda3\\lib\\site-packages (from requests->psaw) (1.25.8)\n",
      "Requirement already satisfied: idna<2.9,>=2.5 in c:\\users\\matthew\\anaconda3\\lib\\site-packages (from requests->psaw) (2.8)\n",
      "Requirement already satisfied: certifi>=2017.4.17 in c:\\users\\matthew\\anaconda3\\lib\\site-packages (from requests->psaw) (2019.11.28)\n",
      "Requirement already satisfied: chardet<3.1.0,>=3.0.2 in c:\\users\\matthew\\anaconda3\\lib\\site-packages (from requests->psaw) (3.0.4)\n",
      "Installing collected packages: psaw\n",
      "Successfully installed psaw-0.0.12\n",
      "Note: you may need to restart the kernel to use updated packages.\n"
     ]
    }
   ],
   "source": [
    "pip install psaw"
   ]
  },
  {
   "cell_type": "code",
   "execution_count": 1,
   "metadata": {},
   "outputs": [],
   "source": [
    "from psaw import PushshiftAPI\n",
    "import requests\n",
    "from ast import literal_eval\n",
    "import datetime as dt"
   ]
  },
  {
   "cell_type": "code",
   "execution_count": 2,
   "metadata": {},
   "outputs": [],
   "source": [
    "api = PushshiftAPI()"
   ]
  },
  {
   "cell_type": "code",
   "execution_count": 67,
   "metadata": {},
   "outputs": [],
   "source": [
    "def generate_data(sub):\n",
    "    total_entries = []\n",
    "    start_epoch=int(dt.datetime(2019, 10, 1).timestamp())\n",
    "    gen = api.search_submissions(after=start_epoch,subreddit=sub,sort_type='num_comments')\n",
    "\n",
    "    max_response_cache = 2000\n",
    "    cache = []\n",
    "    \n",
    "    #Get 2000 posts from a certain subreddit after October 1st 2019 sorted by most comments to least\n",
    "    for c in gen:\n",
    "        cache.append(c)\n",
    "        if len(cache) >= max_response_cache:\n",
    "            break\n",
    "\n",
    "    for i in range(len(cache)):\n",
    "        title = cache[i].title\n",
    "        selftext = cache[i].selftext\n",
    "        if selftext == '':\n",
    "            selftext = cache[i].url\n",
    "        #Stop getting posts if there are few comments in remaining posts\n",
    "        if cache[i].num_comments < 5:\n",
    "            break\n",
    "        #Do not include posts that have been removed or deleted\n",
    "        elif selftext != '[deleted]' and selftext != '[removed]':\n",
    "            #Get List of comment ids from a post\n",
    "            response = requests.get(\"https://api.pushshift.io/reddit/submission/comment_ids/\"+cache[i].id)\n",
    "            comment_ids = literal_eval(response.text)['data']\n",
    "            comment_gen = api.search_comments(ids=comment_ids)\n",
    "            comments = []\n",
    "            #Add comment to list of post comments if it has not been removed, deleted or came from a bot\n",
    "            for c in comment_gen:\n",
    "                if c.parent_id.split('_')[1] == cache[i].id:\n",
    "                    if (c.body != '[deleted]') and (c.body != '[removed]') and ('I am a bot' not in c.body):\n",
    "                        comments.append(c.body)\n",
    "                    if len(comments) >= max_response_cache:\n",
    "                        break\n",
    "            #Format post and comments to feed to model\n",
    "            entry = '<|startoftext|>[title]'\n",
    "            entry += title\n",
    "\n",
    "            if selftext !='':\n",
    "                entry += '\\n[selftext]'+selftext\n",
    "            else:\n",
    "                entry += '\\n'\n",
    "            for comment in comments:\n",
    "                entry += '[comment]'+comment+'\\n'\n",
    "            entry = entry[:-1] + '<|endoftext|>\\n'\n",
    "            total_entries.append(entry)\n",
    "        if len(total_entries)%100 == 0:\n",
    "            print(len(total_entries))\n",
    "    return total_entries\n",
    "    \n",
    "    \n",
    "\n",
    "\n",
    "    "
   ]
  },
  {
   "cell_type": "code",
   "execution_count": null,
   "metadata": {},
   "outputs": [],
   "source": [
    "republican_data = generate_data('Republican')"
   ]
  },
  {
   "cell_type": "code",
   "execution_count": null,
   "metadata": {},
   "outputs": [],
   "source": [
    "democrat_data = generate_data('democrats')"
   ]
  },
  {
   "cell_type": "code",
   "execution_count": 72,
   "metadata": {},
   "outputs": [],
   "source": [
    "file = open(\"demo.txt\",\"w\",encoding=\"utf-8\") \n",
    "file.writelines(democrat_data) \n",
    "file.close() "
   ]
  },
  {
   "cell_type": "code",
   "execution_count": 73,
   "metadata": {},
   "outputs": [],
   "source": [
    "file = open(\"republic.txt\",\"w\",encoding=\"utf-8\") \n",
    "file.writelines(republican_data) \n",
    "file.close() "
   ]
  }
 ],
 "metadata": {
  "kernelspec": {
   "display_name": "Python 3",
   "language": "python",
   "name": "python3"
  },
  "language_info": {
   "codemirror_mode": {
    "name": "ipython",
    "version": 3
   },
   "file_extension": ".py",
   "mimetype": "text/x-python",
   "name": "python",
   "nbconvert_exporter": "python",
   "pygments_lexer": "ipython3",
   "version": "3.7.6"
  }
 },
 "nbformat": 4,
 "nbformat_minor": 4
}

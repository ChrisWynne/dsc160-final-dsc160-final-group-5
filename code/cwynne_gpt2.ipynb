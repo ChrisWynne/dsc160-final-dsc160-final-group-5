{
 "cells": [
  {
   "cell_type": "code",
   "execution_count": 1,
   "metadata": {},
   "outputs": [],
   "source": [
    "# run once (may have to restart notebook)\n",
    "# !pip install tensorflow-gpu==1.15 --user # if you do not have a gpu remove -gpu \n",
    "# !pip install gpt-2-simple --user"
   ]
  },
  {
   "cell_type": "code",
   "execution_count": 1,
   "metadata": {},
   "outputs": [],
   "source": [
    "import pandas as pd\n",
    "import numpy as np\n",
    "import json\n",
    "import os\n",
    "import requests"
   ]
  },
  {
   "cell_type": "code",
   "execution_count": 2,
   "metadata": {},
   "outputs": [
    {
     "name": "stdout",
     "output_type": "stream",
     "text": [
      "WARNING:tensorflow:\n",
      "The TensorFlow contrib module will not be included in TensorFlow 2.0.\n",
      "For more information, please see:\n",
      "  * https://github.com/tensorflow/community/blob/master/rfcs/20180907-contrib-sunset.md\n",
      "  * https://github.com/tensorflow/addons\n",
      "  * https://github.com/tensorflow/io (for I/O related ops)\n",
      "If you depend on functionality not listed there, please file an issue.\n",
      "\n"
     ]
    }
   ],
   "source": [
    "is_local = True # change this if you are not loading a pretrained model locally\n",
    "if is_local:\n",
    "    # import tensorflow as tf\n",
    "    import sys\n",
    "    sys.path.insert(0, os.path.abspath('../../gpt-2-simple-0.7/gpt_2_simple'))\n",
    "    import gpt_2 as gpt2\n",
    "    local_checkpoint_dir = \"../../local_checkpoints\" # directory where local models are stored\n",
    "    local_model_name = 'model-100'\n",
    "else:\n",
    "    import gpt_2_simple as gpt2"
   ]
  },
  {
   "cell_type": "code",
   "execution_count": 3,
   "metadata": {},
   "outputs": [],
   "source": [
    "# check to make sure gpu is recognized for significantly faster training\n",
    "\n",
    "# from tensorflow.python.client import device_lib\n",
    "# print(device_lib.list_local_devices())"
   ]
  },
  {
   "cell_type": "code",
   "execution_count": 4,
   "metadata": {},
   "outputs": [],
   "source": [
    "model_name = \"124M\"\n",
    "if not os.path.isdir(os.path.join(\"models\", model_name)):\n",
    "    print(f\"Downloading {model_name} model...\")\n",
    "    gpt2.download_gpt2(model_name=model_name)"
   ]
  },
  {
   "cell_type": "code",
   "execution_count": 5,
   "metadata": {},
   "outputs": [],
   "source": [
    "dir_path = \"../data/\"\n",
    "\n",
    "dem_file_name = \"democrats_result.txt\"\n",
    "dem_sample_name = \"democrats_sample.txt\"\n",
    "dem_model_name = 'dem'\n",
    "\n",
    "rep_file_name = 'republican_result.txt'\n",
    "rep_sample_name = 'republican_sample.txt'\n",
    "rep_model_name = 'rep'\n",
    "\n",
    "both_file_name = 'both_result.txt'\n",
    "both_sample_name = 'both_sample.txt'\n",
    "both_model_name = 'both'"
   ]
  },
  {
   "cell_type": "code",
   "execution_count": 6,
   "metadata": {},
   "outputs": [],
   "source": [
    "# reading and writing sample files for each side\n",
    "\n",
    "# with open(dir_path+dem_file_name,'r') as demf:\n",
    "#     dem_data = demf.readlines(500000)\n",
    "# with open(dir_path+dem_sample_name,'w+') as dem_write:\n",
    "#     dem_write.writelines(dem_data)\n",
    "\n",
    "# with open(dir_path+rep_file_name,'r') as repf:\n",
    "#     rep_data = repf.readlines(500000)\n",
    "# with open(dir_path+rep_sample_name,'w+') as rep_write:\n",
    "#     rep_write.writelines(rep_data)\n",
    "\n",
    "# dem_data.extend(rep_data)\n",
    "# both_data = dem_data\n",
    "\n",
    "\n",
    "# with open(dir_path+both_file_name,'r') as bothf:\n",
    "#     both_data = bothf.readlines(100000)\n",
    "# with open(dir_path+both_sample_name,'w+') as both_write:\n",
    "#     both_write.writelines(both_data)"
   ]
  },
  {
   "cell_type": "code",
   "execution_count": 7,
   "metadata": {},
   "outputs": [],
   "source": [
    "# text file to train model on\n",
    "train_fp = dir_path + dem_sample_name\n",
    "train_name = dem_model_name"
   ]
  },
  {
   "cell_type": "code",
   "execution_count": 8,
   "metadata": {},
   "outputs": [
    {
     "name": "stdout",
     "output_type": "stream",
     "text": [
      "Loading checkpoint ../../local_checkpoints/dem/model-100\n",
      "INFO:tensorflow:Restoring parameters from ../../local_checkpoints/dem/model-100\n"
     ]
    }
   ],
   "source": [
    "# this cell takes the longest. Can only be run once without restarting the notebook\n",
    "sess = gpt2.start_tf_sess()\n",
    "if is_local:\n",
    "    gpt2.load_gpt2(sess, \n",
    "                   checkpoint=local_model_name, \n",
    "                   run_name=train_name, \n",
    "                   checkpoint_dir=local_checkpoint_dir)\n",
    "else:\n",
    "    gpt2.finetune(sess,\n",
    "                  train_fp,\n",
    "                  model_name=model_name,\n",
    "                  steps=100, # steps is max number of training steps\n",
    "                  restore_from='fresh', # makes sure model doesnt resume from previous trained model\n",
    "                  print_every=20, # only prints every 20 training steps,\n",
    "                  run_name=train_name # model name, so we can load different models locally\n",
    "                 )"
   ]
  },
  {
   "cell_type": "code",
   "execution_count": 9,
   "metadata": {},
   "outputs": [],
   "source": [
    "# prompt to generate response to, going to be a post/comment from the political discussion subreddits\n",
    "\n",
    "pre = \"After witnessing the heinous amount of police brutality in the US against POC, \\\n",
    "my partner and I have created some protest posters in response. We do not care about \\\n",
    "credit, just getting the message out there, so feel free to distribute however way you \\\n",
    "want, or make better versions yourself if you think it can be improved!\""
   ]
  },
  {
   "cell_type": "code",
   "execution_count": 10,
   "metadata": {
    "scrolled": false
   },
   "outputs": [
    {
     "name": "stdout",
     "output_type": "stream",
     "text": [
      "After witnessing the heinous amount of police brutality in the US against POC, my partner and I have created some protest posters in response. We do not care about credit, just getting the message out there, so feel free to distribute however way you want, or make better versions yourself if you think it can be improved! \n",
      "\n",
      "We'll see where that goes. I will very likely lose this peaceful movement to a few powerful lobbies, and then all the rage and all the hate will return and have to be directed at the entire left. I'm not saying we shouldn't be united, or even more divided, than we otherwise would be, but there are those who see justice in the world, and those who see law enforcement as a whole, as the problem and human beings, as a whole, as a whole, who must be put to the test.\n",
      "\n",
      "But we have to fight for justice, and we have to make sure the injustice does not happen again. I see a growing number of articles about how the President is only ever in power, and is then pushed aside because he's blocked an official White House visit to the White House. I have an older brother who is still angry that his dad had to go through the same amount of effort as FDR in getting elected.  He's a good man, and I'm glad that he's not acting like an asshole every day. I find it very telling that American conservatives are fighting tooth and nail to have any sort of republican in the White House, even one as irrelevant as Trump. That's not just fair, it's irresponsible. \n",
      "\n",
      "I just respect the idea that people can actually be reasonable and actually make a difference in the world. That's the real America I live in, and I don't see how conservatives can ever be any less important to our country, let alone President Trump, my fellow Americans. I found this thread on the Tea Party movement, where there seems to be some effort being made to equate both groups, and that's not criticism at all.  The Tea Party movement in particular is very well known for its racist, anti-Christian rhetoric.  \n",
      "\n",
      "Clearly, they need to be brought to heel or beaten to the punch. I agree with both of your points, and I agree\n",
      "====================\n",
      "After witnessing the heinous amount of police brutality in the US against POC, my partner and I have created some protest posters in response. We do not care about credit, just getting the message out there, so feel free to distribute however way you want, or make better versions yourself if you think it can be improved! But if you are going to hold rallies, go out and be vocal, and show solidarity with all people, I don't want any of those two things to happen. \n",
      "\n",
      "Trump and Sanders will likely make a strong argument, but the difference between a Sanders or a Trump endorsement is a matter of opinion, not polls.  Additionally, if Trump wins the primary, it will likely be a close election. This is all a huge reason why Bernie fans are strong, it’s just that it’s not fair.  Its not like I want to vote for anyone who has a hate record, it’s just that when you vote against someone, thats it.  You can’t deny that there are many, many, many other reasons this could happen. Yes, this country is not perfect.   But I disagree with the fundamental assumption that Trump is evil. \n",
      "\n",
      "Or maybe I’m just a little insecure, because I’m a believer in random chance. \n",
      "\n",
      "I truly do believe that if the odds were against Trump at the time, he might not have won the election.\n",
      "\n",
      "He’s running against a much better candidate than Biden. \n",
      "\n",
      "For example, consider this scenario. \n",
      "\n",
      "Donald Trump opens fire at a football game.’s home game against a good team. \n",
      "\n",
      "The Pittsburgh Steelers don’t even make the final 10 minutes because the refs are protecting them. \n",
      "\n",
      "The Dallas Cowboys lose because they lose because they draw the last possession. \n",
      "\n",
      "And the Detroit Free Press has a similar story as well. \n",
      "\n",
      "We lost because the Detroit Free Press covered the same events as the Dallas incident. \n",
      "\n",
      "And the New York Times covered the same thing but only about Trump.\n",
      "\n",
      "And the Guardian originally covered protests but ran a story about protests but ran a story about Trump. This is nothing new, and Josh\n",
      "====================\n",
      "After witnessing the heinous amount of police brutality in the US against POC, my partner and I have created some protest posters in response. We do not care about credit, just getting the message out there, so feel free to distribute however way you want, or make better versions yourself if you think it can be improved!\n",
      "\n",
      "Nobody is above the law and this is clearly not the case in the country. We have a very demanding President-in-waiting, and a very unstable Congress. It's way too late for anything but populism!\n",
      "\n",
      "America needs to be more unified and peaceful to get the message out to the world that Trumpism is not just \"small government\". It's absolutely insane to think Trump is going to let you down. POCs and the KKK, and even Neo Nazis, are not \"small government\". They are community based \"small business owners\" willing to be the voice of reason in a chaotic, chaotic world. But they aren't \"small business owners\". They are people willing to work hard to get what they want.\n",
      "\n",
      "They are people who have been through an amazing time and have a vision for America. People like you need to get out and represent America in the nation's capital. POCs and Neo Nazis will destroy your America. We need people to put pressure on Trump to resign, flag down all his Fascist followers, and be more moderate in his views. These people need to be put to sleep and their minds put to rest. Get in touch with your elected representatives and see if they will support policing and police reform in America. We need a landslide government victory in November, and it has to be in the hands of the people. If not, we may never have any representatives from our own people anymore. We need people who will represent the vast majority of Americans, not just fringe fringe Trump followers. This is ONLY a November election, and it will never happen in November. I think it’s clearly Biden's fault for not getting the nomination outright, but it’s his own fault. It’s always been weird when someone doesn’t even try to put themselves in the top 5. This election, it's been weirdmer than expected. It’s not like it was easy. I\n",
      "====================\n",
      "After witnessing the heinous amount of police brutality in the US against POC, my partner and I have created some protest posters in response. We do not care about credit, just getting the message out there, so feel free to distribute however way you want, or make better versions yourself if you think it can be improved!\n",
      "\n",
      "• We're not saying you shouldn't just have the right to protest peacefully. We're saying that you have the right to protest (and the right to express your disagreement) peacefully by peacefully demonstrating. Your protests can and should be discussed peacefully, but you have the right to express your disagreement peacefully by peacefully demonstrating.\n",
      "\n",
      "If you're being violent, we need you to be rioting.\n",
      "\n",
      "We need you protesting about police brutality and inequality.\n",
      "\n",
      "We need you protesting about the abuse of power by the police, and uncomfortable truths about race, class, and gender.\n",
      "\n",
      "We need you protesting about the militarization of police, and the damaging impact it has on the daily lives of millions.\n",
      "\n",
      "We need you protesting about racial injustice, and the many injustices that disproportionately affect the POC.\n",
      "\n",
      "We need you protesting about the oppression of women and people of color and the many injustices in this country and the world.\n",
      "\n",
      "\n",
      "We need you protesting about the injustice against LGBTQ people and other marginalized groups in this country.\n",
      "\n",
      "\n",
      "We need you protesting about the injustice against LGBTQ+ people in this country.\n",
      "\n",
      "\n",
      "We need you protesting about the treatment of LGBTQ+ people in this country.\n",
      "\n",
      "\n",
      "We need you protesting about the insane treatment of LGBTQ+ people in this country.\n",
      "\n",
      "\n",
      "We need you protesting about the treatment of LGBTQ+ people in this country.\n",
      "\n",
      "\n",
      "We need you protesting about the abuse of power by the police and the way it operates -both are pretty awful things.\n",
      "\n",
      "\n",
      "We need you protesting the injustice done to LGBTQ+ people in this country.\n",
      "\n",
      "\n",
      "We need you protesting the way the US treats LGBTQ+ people in this country.\n",
      "\n",
      "\n",
      "We need you protesting the way the US treats LGBTQ+ community members/individuals/groups in this country -both are pretty awful things.\n",
      "\n",
      "\n",
      "The reality is that the vast majority of people in this country are people of colour, and the vast majority of LGBTQ+\n",
      "====================\n"
     ]
    },
    {
     "name": "stdout",
     "output_type": "stream",
     "text": [
      "After witnessing the heinous amount of police brutality in the US against POC, my partner and I have created some protest posters in response. We do not care about credit, just getting the message out there, so feel free to distribute however way you want, or make better versions yourself if you think it can be improved! Stop being such a fucking asshat, and stop being such a bitch. \n",
      "\n",
      "Fuck the police.\n",
      "\n",
      "They are sick and old of cops hating the state. It’s not fair.\n",
      "\n",
      "Stupid ass white guys just give up on this country and let it all shine a bit on some shitty cops. They are the enemy. Once again, American assholes are playing big political role this time around. They are playing the baby trump role, as well as being the anti-trump. That is an enemy of the state. And a dictator. Fucking bullshit. \n",
      "\n",
      "These cops are fucking monsters. I bet they don't plan to kill people, because they know that they're about to be eaten up by the other monsters. They just plan on doing their jobs. They don't have any plans to murder or harm civilians, because it's just propaganda. They don't plan on taking advantage of the fact that their government is cowardically running this country. It’s as simple as that. We're a democracy. We don't need any rednecks, blue-tans, or whatever appeals to people that are easy on the eyes. You know, people all ages and years, but not just those that are part of the working class. People that are not part of the working class. Someone have a look at their brain. Honestly, I don't know why the gossamer patch of shit in the US has any relevance to the question of police brutality. \n",
      "\n",
      "It's just a question of if we will ever come to understand, or accept, the horrible level of police violence of the past decades. \n",
      "\n",
      "It’s a moot point if the current level of violence is an indication of how it will be used against non-violent protesters. The video makes absolutely no mention of this, but it does mention a few things. The first is that the county in question is in Missouri. \n",
      "====================\n"
     ]
    }
   ],
   "source": [
    "gpt2.generate(sess, \n",
    "              temperature=.8, # uniqueness of the output (usually ranges from .5 to 2)\n",
    "              prefix=pre, # prompt\n",
    "              nsamples=5, # number of generated responses \n",
    "              length=400 # number of words (including prompt) per response\n",
    "             )"
   ]
  },
  {
   "cell_type": "code",
   "execution_count": null,
   "metadata": {},
   "outputs": [],
   "source": []
  }
 ],
 "metadata": {
  "kernelspec": {
   "display_name": "Python 3",
   "language": "python",
   "name": "python3"
  },
  "language_info": {
   "codemirror_mode": {
    "name": "ipython",
    "version": 3
   },
   "file_extension": ".py",
   "mimetype": "text/x-python",
   "name": "python",
   "nbconvert_exporter": "python",
   "pygments_lexer": "ipython3",
   "version": "3.7.4"
  }
 },
 "nbformat": 4,
 "nbformat_minor": 2
}

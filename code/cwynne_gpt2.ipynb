{
 "cells": [
  {
   "cell_type": "code",
   "execution_count": null,
   "metadata": {},
   "outputs": [],
   "source": [
    "# run once (may have to restart notebook)\n",
    "# !pip install tensorflow-gpu==1.15 --user # if you do not have a gpu remove -gpu \n",
    "# !pip install gpt-2-simple --user"
   ]
  },
  {
   "cell_type": "code",
   "execution_count": null,
   "metadata": {},
   "outputs": [],
   "source": [
    "import pandas as pd\n",
    "import numpy as np\n",
    "import json\n",
    "import os\n",
    "import requests"
   ]
  },
  {
   "cell_type": "code",
   "execution_count": null,
   "metadata": {},
   "outputs": [],
   "source": [
    "is_local = False # change this if you are not loading a pretrained model locally\n",
    "if is_local:\n",
    "    # import tensorflow as tf\n",
    "    import sys\n",
    "    sys.path.insert(0, os.path.abspath('../../gpt-2-simple-0.7/gpt_2_simple'))\n",
    "    import gpt_2 as gpt2\n",
    "    local_checkpoint_dir = \"../../local_checkpoints\" # directory where local models are stored\n",
    "    local_model_name = 'model-100'\n",
    "else:\n",
    "    import gpt_2_simple as gpt2"
   ]
  },
  {
   "cell_type": "code",
   "execution_count": null,
   "metadata": {},
   "outputs": [],
   "source": [
    "# check to make sure gpu is recognized for significantly faster training\n",
    "\n",
    "# from tensorflow.python.client import device_lib\n",
    "# print(device_lib.list_local_devices())"
   ]
  },
  {
   "cell_type": "code",
   "execution_count": null,
   "metadata": {},
   "outputs": [],
   "source": [
    "model_name = \"124M\"\n",
    "if not os.path.isdir(os.path.join(\"models\", model_name)):\n",
    "    print(f\"Downloading {model_name} model...\")\n",
    "    gpt2.download_gpt2(model_name=model_name)"
   ]
  },
  {
   "cell_type": "code",
   "execution_count": null,
   "metadata": {},
   "outputs": [],
   "source": [
    "dir_path = \"../data/matt_results/\"\n",
    "\n",
    "dem_file_name = \"democrats_result.txt\"\n",
    "dem_sample_name = \"democrats_sample.txt\"\n",
    "dem_model_name = 'matt_dem'\n",
    "\n",
    "rep_file_name = 'republican_result.txt'\n",
    "rep_sample_name = 'republican_sample.txt'\n",
    "rep_model_name = 'matt_rep'\n",
    "\n",
    "both_file_name = 'both_result.txt'\n",
    "both_sample_name = 'both_sample.txt'\n",
    "both_model_name = 'matt_both'"
   ]
  },
  {
   "cell_type": "code",
   "execution_count": null,
   "metadata": {},
   "outputs": [],
   "source": [
    "# reading and writing sample files for each side\n",
    "\n",
    "# with open(dir_path+dem_file_name,'r') as demf:\n",
    "#     dem_data = demf.readlines(500000)\n",
    "# with open(dir_path+dem_sample_name,'w+') as dem_write:\n",
    "#     dem_write.writelines(dem_data)\n",
    "\n",
    "# with open(dir_path+rep_file_name,'r') as repf:\n",
    "#     rep_data = repf.readlines(500000)\n",
    "# with open(dir_path+rep_sample_name,'w+') as rep_write:\n",
    "#     rep_write.writelines(rep_data)\n",
    "\n",
    "# dem_data.extend(rep_data)\n",
    "# both_data = dem_data\n",
    "\n",
    "\n",
    "# with open(dir_path+both_file_name,'r') as bothf:\n",
    "#     both_data = bothf.readlines(100000)\n",
    "# with open(dir_path+both_sample_name,'w+') as both_write:\n",
    "#     both_write.writelines(both_data)"
   ]
  },
  {
   "cell_type": "code",
   "execution_count": null,
   "metadata": {},
   "outputs": [],
   "source": [
    "# text file to train model on\n",
    "train_fp = dir_path + both_file_name\n",
    "train_name = both_model_name\n",
    "results_fp = \"../results/\" + train_name + \"_generated.txt\""
   ]
  },
  {
   "cell_type": "code",
   "execution_count": null,
   "metadata": {},
   "outputs": [],
   "source": [
    "# this cell takes the longest. Can only be run once without restarting the notebook\n",
    "sess = gpt2.start_tf_sess()\n",
    "if is_local:\n",
    "    gpt2.load_gpt2(sess, \n",
    "                   checkpoint=local_model_name, \n",
    "                   run_name=train_name, \n",
    "                   checkpoint_dir=local_checkpoint_dir)\n",
    "else:\n",
    "    gpt2.finetune(sess,\n",
    "                  train_fp,\n",
    "                  model_name=model_name,\n",
    "                  steps=1000, # steps is max number of training steps\n",
    "                  restore_from='fresh', # makes sure model doesnt resume from previous trained model\n",
    "                  print_every=20, # only prints every 20 training steps,\n",
    "                  run_name=train_name # model name, so we can load different models locally\n",
    "                 )"
   ]
  },
  {
   "cell_type": "code",
   "execution_count": null,
   "metadata": {},
   "outputs": [],
   "source": [
    "# prompt to generate response to, going to be a post/comment from the political discussion subreddits\n",
    "\n",
    "pre = \"[title]What is Trump’s strategy for re-election? \\\n",
    "[selftext]What do you think he will focus on for re-election and what do you \\\n",
    "think he should do to give him the best chance of winning? I personally think \\\n",
    "he’s going to focus heavily on China but I’d love to hear what you guys/gals think.\""
   ]
  },
  {
   "cell_type": "code",
   "execution_count": null,
   "metadata": {},
   "outputs": [],
   "source": [
    "gpt2.generate(sess, \n",
    "              temperature=.7, # uniqueness of the output (usually ranges from .5 to 2)\n",
    "              prefix=pre, # prompt\n",
    "              nsamples=5, # number of generated responses \n",
    "              length=400 # number of words (including prompt) per response\n",
    "             )"
   ]
  },
  {
   "cell_type": "code",
   "execution_count": null,
   "metadata": {},
   "outputs": [],
   "source": [
    "gpt2.generate_to_file(sess, \n",
    "                      destination_path=results_fp,\n",
    "                      temperature=.8, # uniqueness of the output (usually ranges from .5 to 2)\n",
    "                      prefix=pre, # prompt\n",
    "                      nsamples=5, # number of generated responses \n",
    "                      length=400 # number of words (including prompt) per response)\n",
    "                     )"
   ]
  },
  {
   "cell_type": "code",
   "execution_count": null,
   "metadata": {},
   "outputs": [],
   "source": []
  }
 ],
 "metadata": {
  "kernelspec": {
   "display_name": "Python 3",
   "language": "python",
   "name": "python3"
  },
  "language_info": {
   "codemirror_mode": {
    "name": "ipython",
    "version": 3
   },
   "file_extension": ".py",
   "mimetype": "text/x-python",
   "name": "python",
   "nbconvert_exporter": "python",
   "pygments_lexer": "ipython3",
   "version": "3.7.3"
  }
 },
 "nbformat": 4,
 "nbformat_minor": 2
}

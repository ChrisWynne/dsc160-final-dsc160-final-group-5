{
 "cells": [
  {
   "cell_type": "code",
   "execution_count": 1,
   "metadata": {},
   "outputs": [],
   "source": [
    "# run once (may have to restart notebook)\n",
    "# !pip install gpt-2-simple\n",
    "# !pip install tensorflow==1.15"
   ]
  },
  {
   "cell_type": "code",
   "execution_count": 1,
   "metadata": {},
   "outputs": [
    {
     "name": "stdout",
     "output_type": "stream",
     "text": [
      "WARNING:tensorflow:\n",
      "The TensorFlow contrib module will not be included in TensorFlow 2.0.\n",
      "For more information, please see:\n",
      "  * https://github.com/tensorflow/community/blob/master/rfcs/20180907-contrib-sunset.md\n",
      "  * https://github.com/tensorflow/addons\n",
      "  * https://github.com/tensorflow/io (for I/O related ops)\n",
      "If you depend on functionality not listed there, please file an issue.\n",
      "\n"
     ]
    }
   ],
   "source": [
    "import pandas as pd\n",
    "import numpy as np\n",
    "import json\n",
    "import gpt_2_simple as gpt2\n",
    "import os\n",
    "import requests\n",
    "from datetime import datetime"
   ]
  },
  {
   "cell_type": "code",
   "execution_count": 2,
   "metadata": {},
   "outputs": [],
   "source": [
    "model_name = \"124M\"\n",
    "if not os.path.isdir(os.path.join(\"models\", model_name)):\n",
    "    print(f\"Downloading {model_name} model...\")\n",
    "    gpt2.download_gpt2(model_name=model_name)"
   ]
  },
  {
   "cell_type": "code",
   "execution_count": 3,
   "metadata": {},
   "outputs": [],
   "source": [
    "dir_path = \"../data/\"\n",
    "dem_file_name = \"democrats_result.txt\"\n",
    "sample_dem_name = \"democrats_sample.txt\"\n",
    "# if not os.path.exists(dir_path):\n",
    "#     os.makedirs(dir_path)\n",
    "# if not os.path.isfile(dir_path + file_name):\n",
    "#     url = \"https://raw.githubusercontent.com/karpathy/char-rnn/master/data/tinyshakespeare/input.txt\"\n",
    "#     data = requests.get(url)\n",
    "#     with open(dir_path + file_name, 'w') as f:\n",
    "#         f.write(data.text)"
   ]
  },
  {
   "cell_type": "code",
   "execution_count": 4,
   "metadata": {},
   "outputs": [],
   "source": [
    "# with open(dir_path + dem_file_name,'r') as f:\n",
    "#     data = f.readlines(10000)\n",
    "# with open(dir_path + \"democrats_sample.txt\",'w+') as to_write:\n",
    "#     to_write.writelines(data)\n",
    "# # data"
   ]
  },
  {
   "cell_type": "code",
   "execution_count": 5,
   "metadata": {},
   "outputs": [
    {
     "name": "stdout",
     "output_type": "stream",
     "text": [
      "WARNING:tensorflow:From /opt/anaconda3/lib/python3.7/site-packages/gpt_2_simple/src/sample.py:17: where (from tensorflow.python.ops.array_ops) is deprecated and will be removed in a future version.\n",
      "Instructions for updating:\n",
      "Use tf.where in 2.0, which has the same broadcast rule as np.where\n",
      "Loading checkpoint checkpoint/run1/model-3\n",
      "INFO:tensorflow:Restoring parameters from checkpoint/run1/model-3\n"
     ]
    },
    {
     "name": "stderr",
     "output_type": "stream",
     "text": [
      "100%|██████████| 1/1 [00:00<00:00, 183.35it/s]"
     ]
    },
    {
     "name": "stdout",
     "output_type": "stream",
     "text": [
      "Loading dataset...\n",
      "dataset has 2348 tokens\n",
      "Training...\n"
     ]
    },
    {
     "name": "stderr",
     "output_type": "stream",
     "text": [
      "\n"
     ]
    },
    {
     "name": "stdout",
     "output_type": "stream",
     "text": [
      "[20 | 2079.49] loss=0.20 avg=0.20\n",
      "[40 | 4121.58] loss=0.02 avg=0.11\n",
      "[60 | 6144.13] loss=0.02 avg=0.08\n",
      "[80 | 8161.42] loss=0.02 avg=0.06\n",
      "[100 | 10213.83] loss=0.01 avg=0.05\n",
      "======== SAMPLE 1 ========\n",
      "? Yes i hump my guns And get rich Selling guns to the public at large is selfish and would do us in if we was a human being. It's not about score a few extra ops rolls or whatever it is. This is america. Awesome.\n",
      "\n",
      "Then along came that idiot tweet who had this exact same problem with chan months later. He had the audacity to link to this post if it wasn't confirmed already. He also had the gall to put up with racist language for over a year. I'm not blaming anyone, just proving that he is an idiot. I blame myself for contributing to his decision. blame everyone in a haze of negativity. What caused all of this? I just wrote this into an election so as to vote. I don't have a lick of policy experience. I don. Joe. Biden. congress do. have experience with a thesaurus link getting linked to a link that doesn't meet the standards of the link being promoted. Why does he get a free pass? He also helped write the patriot act which further militarized the police. I'm not blaming anyone, just proving that he is an idiot. I blame myself for contributing to his decision. blame everyone in a haze of negativity. What caused all of this? I just wrote this into an election so as to vote. I don't have a lick of policy experience. I don. Joe. Biden. congress do. have experience with a thesaurus link getting linked to a link that doesn't meet the standards of the link being promoted. Why does he get a free pass? He also helped write the patriot act which further militarized the police. I'm not blaming anyone, just proving that he is an idiot. I blame myself for contributing to his decision. blame everyone in a haze of negativity. What caused all of this? I just wrote this into an election so as to vote. I don't have a lick of policy experience. I don't have a lick of experience with a thesaurus bazookae or even the republican republicana republicane roman republicane republicane republicane\n",
      "\n",
      "2014-12-17 20:17:17<|endoftext|>A few weeks ago we wrote about blockchain's potential to radically cut the power of governments and corporations. Then along came that whole fascist rant about unicorns and dick pics being submitted topless and so on. Then along came that ridiculous question as to why you should care about human rights than 12 year olds having a good time flaunting their derision at gun shows, holding signs reading \"We're not killing 12 democrats, that would be the guy who teargassed and flashbanged members of a church in DC\" \n",
      "We can only hope we come out of this with a rejuvenated sense of racial equality. And fight for that we must. For context, my parents are Indian. My ancestors grew up in slums, earning 1000 dollars a year or less, living in shacks, working meal to meal, wearing rags. My grandpa had to slog his ass off nearly working himself to death to work his way up in a factory with dismal conditions and finally take ownership. Why? So he could send my dad to high shcool and so he could come to college here. 20 years later and we're not rich, but very well off leading a comfortable life.\n",
      "\n",
      "Nowhere else in the world could a story like this be possible. Nowhere else can a family come here and live in a one bedroom apartment with one bag of clothes and no money and finally work hard to get a good life. This type of social mobility is impossible in most of asia, and much of the rest of the world as well. So other average people in other countries are dying of hunger, getting into literal slavery, doing backbreaking work in mines - they do NOT have it better than us. My family's neighbors have NO food right now. My dad's best friend who he grew up with is literally unable to provide for his family right now. But here, we have stimulus checks, stable jobs, etc. \n",
      "\n",
      "My life was never easy, but I'm thankful beyond words for living here. Instead of complaining about \"benefiting the rich\" and other meta level stuff complaining about the people at the top, our story is proof that hard work really pays off with the american dream. And we know who always has to approve it the divider-in-chief himself. Get this shit out of here until you can say the same to conservatives first. .#MarriageGoals He's an idiot. Don't overthink it. Cops:  \"We were just following orders\" From the link:\n",
      "\n",
      "The people that have the power to make these changes are elected officials. That means the people that have the power to make these changes are us.\n",
      "\n",
      "Make your voice heard\n",
      "\n",
      "* **Contact** your police chiefs, district attorneys, and state legislators and make it clear what actions you demand to see\n",
      "* **Pro\n",
      "\n",
      "[120 | 12347.35] loss=0.01 avg=0.05\n",
      "[140 | 14349.80] loss=0.01 avg=0.04\n",
      "[160 | 16363.37] loss=0.01 avg=0.04\n",
      "[180 | 18365.54] loss=0.01 avg=0.03\n",
      "[200 | 20433.62] loss=0.01 avg=0.03\n",
      "Saving checkpoint/run1/model-200\n",
      "We can only hope we come out of this with a rejuvenated sense of racial equality. And fight for that we must. For context, my parents are Indian. My ancestors grew up in slums, earning 1000 dollars a year or less, living in shacks, working meal to meal, wearing rags. My grandpa had to slog his ass off nearly working himself to death to work his way up in a factory with dismal conditions and finally take ownership. Why? So he could send my dad to high shcool and so he could come to college here. 20 years later and we're not rich, but very well off leading a comfortable life.\n",
      "\n",
      "Nowhere else in the world could a story like this be possible. Nowhere else can a family come here and live in a one bedroom apartment with one bag of clothes and no money and finally work hard to get a good life. This type of social mobility is impossible in most of asia, and much of the rest of the world as well. So other average people in other countries are dying of hunger, getting into literal slavery, doing backbreaking work in mines - they do NOT have it better than us. My family's neighbors have NO food right now. My dad's best friend who he grew up with is literally unable to provide for his family right now. But here, we have stimulus checks, stable jobs, etc. \n",
      "\n",
      "My life was never easy, but I'm thankful beyond words for living here. Instead of complaining about \"benefiting the rich\" and other meta level stuff complaining about the people at the top, our story is proof that hard work really pays off with the american dream. And we know who always has to approve it the divider-in-chief himself. Get this shit out of here until you can say the same to conservatives first. .#MarriageGoals He's an idiot. Don't overthink it. Cops:  \"We were just following orders\" From the link:\n",
      "\n",
      "The people that have the power to make these changes are elected officials. That means the people that have the power to make these changes are us.\n",
      "\n",
      "Make your voice heard\n",
      "\n",
      "* **Contact** your police chiefs, district attorneys, and state legislators and make it clear what actions you demand to see\n",
      "* **Protest** until the changes are made\n",
      "* **Donate** to amplify your voice\n",
      "* **Vote** for the right mayors, sheriffs, district attorneys, and state representatives next election\n",
      "* **Share** these expectations for structural change with friends\n",
      "\n",
      "\\---\n",
      "\n",
      "Additional policy solutions from Black Lives Matter Campaign Zero [here](https://www.joincampaignzero.org/).\n",
      "\n",
      "\\---\n",
      "\n",
      "Thoughts? Trump basically is satan, I know!! But we really can't go around insulting each other and getting pissed. I agree...on behalf of George Floyd, Eric Gardner, etc...\n",
      "\n",
      "The question is... how do we make it happen? Which is why neither should be president. It's bull shit. It's also not too late to get someone better. I just hate everyone washing over it and not holding Biden to account. Why does he get a free pass? He also helped write the patriot act which further militarized the police. Biden is not with BLM or poc in this and its sad to see the media white wash his role. My fiance and I teared up during this speech. It's been three long and exhausting years since we had a speech befitting of a president, and when we finally got one it felt like a massive weight was being lifted off of my shoulders. \n",
      "\n",
      "This was a fantastic speech, I fully believe that Biden had what it takes to best Trump come November. This was truly an election defining speech. We'll see To your first question, yes it probably will make profit in one way or another..\n",
      "\n",
      "Conspiracy: I am happy to hear anything against it.\n",
      "\n",
      "Rioting: I believe rioting comes mostly from anger and the feeling of not \n",
      "treated fairly by society. The most shameful stunt *so far*. Such destain. And Trump can't even do a real smile. The whole family is just.... wretched. And wrong. Like they're playing human beings and half assing it. And guess which Vermont congressman voted for it? Anything to get that vote back lol Well now that he has weighed in, the powers that be won’t have any choice but to change police institutions and the direction of the flow of capital. Will Switzerland act as a smuggler and banker for their new fascist overlord like they did 80 years ago? Will they seize minority assets for themselves? \n",
      "\n",
      "You’re being an alarmist and conspiracy theorist. The rioting and looting is largely because humans act like idiots when they get into large groups. It’s not any one group. It’s just humans in general. https://i0.wp.com/mk\n"
     ]
    }
   ],
   "source": [
    "start = datetime.now()\n",
    "sess = gpt2.start_tf_sess()\n",
    "gpt2.finetune(sess,\n",
    "              dir_path + sample_dem_name,\n",
    "              model_name=model_name,\n",
    "              print_every=20,\n",
    "              steps=200)   # steps is max number of training steps\n",
    "\n",
    "gpt2.generate(sess)\n",
    "end = datetime.now()"
   ]
  },
  {
   "cell_type": "code",
   "execution_count": 6,
   "metadata": {},
   "outputs": [
    {
     "data": {
      "text/plain": [
       "datetime.timedelta(seconds=20564, microseconds=578251)"
      ]
     },
     "execution_count": 6,
     "metadata": {},
     "output_type": "execute_result"
    }
   ],
   "source": [
    "end-start"
   ]
  },
  {
   "cell_type": "code",
   "execution_count": 7,
   "metadata": {},
   "outputs": [
    {
     "name": "stdout",
     "output_type": "stream",
     "text": [
      "Examining the story of Alex Jones is like looking at a photo of a trophy having a good time. It's not an accident that he has links to extremist websites. He is the person having a field day. He is the people being authoritarian. And they clearly need mental health being who our president is lol What a pathetic lot you all are. Trump is pretty much the [Supply side Jesus](https://www.youtube.com/watch?v=X8xU-gKK17A). No democrats want to take your guns. Many democrats own guns, especially in my home state of Wisconsin. \n",
      "\n",
      "\n",
      "We are not the ones being authoritarian, that would be the guy who teargassed and flashbanged members of a church in DC yesterday so he could get a photo op of himself standing outside holding a bible upside down. This is America. It's not a new problem. Since our country was founded, we've been divided by race. We've systematically taken away rights of people who aren't like us. We've had authoritarians running ostensibly democratic governments to perpetuate racism.\n",
      "\n",
      "For a moment, we had a black president. Racism wasn't fixed, but we could see ourselves making progress. Then along came that racial reactionary toddler we have in the White House at the moment.\n",
      "\n",
      "We can only hope we come out of this with a rejuvenated sense of racial equality. And fight for that we must. For context, my parents are Indian. My ancestors grew up in slums, earning 1000 dollars a year or less, living in shacks, working meal to meal, wearing rags. My grandpa had to slog his ass off nearly working himself to death to work his way up in a factory with dismal conditions and finally take ownership. Why? So he could send my dad to high shcool and so he could come to college here. 20 years later and we're not rich, but very well off leading a comfortable life.\n",
      "\n",
      "Nowhere else in the world could a story like this be possible. Nowhere else can a family come here and live in a one bedroom apartment with one bag of clothes and no money and finally work hard to get a good life. This type of social mobility is impossible in most of asia, and much of the rest of the world as well. So other average people in other countries are dying of hunger, getting into literal slavery, doing backbreaking work in mines - they do NOT have it better than us. My family's neighbors have NO food right now. My dad's best friend who he grew up with is literally unable to provide for his family right now. But here, we have stimulus checks, stable jobs, etc. \n",
      "\n",
      "My life was never easy, but I'm thankful beyond words for living here. Instead of complaining about \"benefiting the rich\" and other meta level stuff complaining about the people at the top, our story is proof that hard work really pays off with the american dream. And we know who always has to approve it the divider-in-chief himself. Get this shit out of here until you can say the same to conservatives first. .#MarriageGoals He's an idiot. Don't overthink it. Cops:  \"We were just following orders\" From the link:\n",
      "\n",
      "The people that have the power to make these changes are elected officials. That means the people that have the power to make these changes are us.\n",
      "\n",
      "Make your voice heard\n",
      "\n",
      "* **Contact** your police chiefs, district attorneys, and state legislators and make it clear what actions you demand to see\n",
      "* **Protest** until the changes are made\n",
      "* **Donate** to amplify your voice\n",
      "* **Vote** for the right mayors, sheriffs, district attorneys, and state representatives next election\n",
      "* **Share** these expectations for structural change with friends\n",
      "\n",
      "\\---\n",
      "\n",
      "Additional policy solutions from Black Lives Matter Campaign Zero [here](https://www.joincampaignzero.org/).\n",
      "\n",
      "\\---\n",
      "\n",
      "Thoughts? Trump basically is satan, I know!! But we really can't go around insulting each other and getting pissed. I agree...on behalf of George Floyd, Eric Gardner, etc...\n",
      "\n",
      "The question is... how do we make it happen? Which is why neither should be president. It's bull shit. It's also not too late to get someone better. I just hate everyone washing over it and not holding Biden to account. Why does he get a free pass? He also helped write the patriot act which further militarized the police. Biden is not with BLM or poc in this and its sad to see the media white wash his role. My fiance and I teared up during this speech. It's been three long and exhausting years since we had a speech befitting of a president, and when we finally got one it felt like a massive weight was being lifted off of my shoulders. \n",
      "\n",
      "This was a\n"
     ]
    }
   ],
   "source": [
    "gpt2.generate(sess, temperature=.7)"
   ]
  },
  {
   "cell_type": "code",
   "execution_count": 9,
   "metadata": {},
   "outputs": [
    {
     "name": "stdout",
     "output_type": "stream",
     "text": [
      "This article is a disservice to both the average Joe and the Republican Party. It also casts doubt on the legitimacy of 2016 even as we work to strengthen it. If we stop at just one thing. Island Townships. There is always going to be violence and dishonesty within the world. But if we stop at taxing and regulating and making money. Then there's always going to be irresponsibility on your part. You are the real hero. And us. But also us who have the power to make them happen.\n",
      "\n",
      "We can only hope we come out of this with a rejuvenated sense of racial equality. And fight for that we must. For context, my parents are Indian. My ancestors grew up in slums, earning 1000 dollars a year or less, living in shacks, working meal to meal, wearing rags. My grandpa had to slog his ass off nearly working himself to death to work his way up in a factory with dismal conditions and finally take ownership. Why? So he could send my dad to high shcool and so he could come to college here. 20 years later and we're not rich, but very well off leading a comfortable life.\n",
      "\n",
      "Nowhere else in the world could a story like this be possible. Nowhere else can a family come here and live in a one bedroom apartment with one bag of clothes and no money and finally work hard to get a good life. This type of social mobility is impossible in most of asia, and much of the rest of the world as well. So other average people in other countries are dying of hunger, getting into literal slavery, doing backbreaking work in mines - they do NOT have it better than us. My family's neighbors have NO food right now. My dad's best friend who he grew up with is literally unable to provide for his family right now. But here, we have stimulus checks, stable jobs, etc. \n",
      "\n",
      "My life was never easy, but I'm thankful beyond words for living here. Instead of complaining about \"benefiting the rich\" and other meta level stuff complaining about the people at the top, our story is proof that hard work really pays off with the american dream. And we know who always has to approve it the divider-in-chief himself. Get this shit out of here until you can say the same to conservatives first. .#MarriageGoals He's an idiot. Don't overthink it. Cops:  \"We were just following orders\" From the link:\n",
      "\n",
      "The people that have the power to make these changes are elected officials. That means the people that have the power to make these changes are us.\n",
      "\n",
      "Make your voice heard\n",
      "\n",
      "* **Contact** your police chiefs, district attorneys, and state legislators and make it clear what actions you demand to see\n",
      "* **Protest** until the changes are made\n",
      "* **Donate** to amplify your voice\n",
      "* **Vote** for the right mayors, sheriffs, district attorneys, and state representatives next election\n",
      "* **Share** these expectations for structural change with friends\n",
      "\n",
      "\\---\n",
      "\n",
      "Additional policy solutions from Black Lives Matter Campaign Zero [here](https://www.joincampaignzero.org/).\n",
      "\n",
      "\\---\n",
      "\n",
      "Thoughts? Trump basically is satan, I know!! But we really can't go around insulting each other and getting pissed. I agree...on behalf of George Floyd, Eric Gardner, etc...\n",
      "\n",
      "The question is... how do we make it happen? Which is why neither should be president. It's bull shit. It's also not too late to get someone better. I just hate everyone washing over it and not holding Biden to account. Why does he get a free pass? He also helped write the patriot act which further militarized the police. Biden is not with BLM or poc in this and its sad to see the media white wash his role. My fiance and I teared up during this speech. It's been three long and exhausting years since we had a speech befitting of a president, and when we finally got one it felt like a massive weight was being lifted off of my shoulders. \n",
      "\n",
      "This was a fantastic speech, I fully believe that Biden had what it takes to best Trump come November. This was truly an election defining speech. We'll see To your first question, yes it probably will make profit in one way or another..\n",
      "\n",
      "Conspiracy: I am happy to hear anything against it.\n",
      "\n",
      "Rioting: I believe rioting comes mostly from anger and the feeling of not \n",
      "treated fairly by society. The most shameful stunt *so far*. Such destain. And Trump can't even do a real smile. The whole family is just.... wretched. And wrong. Like they're playing human beings and half assing it. And guess which Vermont congressman voted for it? Anything to get that vote back lol Well now that he has weighed in, the powers that be won’t\n"
     ]
    }
   ],
   "source": [
    "gpt2.generate(sess, temperature=1.0)"
   ]
  },
  {
   "cell_type": "code",
   "execution_count": 11,
   "metadata": {},
   "outputs": [
    {
     "name": "stdout",
     "output_type": "stream",
     "text": [
      "Baby Boomers can now easily imagine been an approval connector and boss's staunch opposition to gun restrictions. Showing alarm over the many courses the Tea Party have taken is a recurring theme. Feckless. If we solve social      NGOS is anybody's patriots first republic. They are the ones behind the f--- up DC. And their mad partnerships w/wisconsin and somebody may128 right Trumpet there. There's a republican subreddit including republican.com If anyone knows how Japanese visit the <a\\https://www.reddit.com/r/The_Donald/>core<a/> of the <a\\https://www.facebook.com/realDonaldTrump/posts/1217648249754288? VOTE there.<b>https://www.visualcapitalist.com/ranked-the-fundraising-assistance/ ‎... other republican posts include: Cultural Marxism: From Nice To Ricardous\n",
      "\n",
      "Karl Rove's Big Oil Party\n",
      "\n",
      "Reaganmania\n",
      "\n",
      "Astrology\n",
      "\n",
      "******\n",
      "\n",
      "The into which we draw the line\n",
      "\n",
      "David\n",
      "\n",
      "******\n",
      "\n",
      "The people that have the power to make these changes are elected officials. That means the people that have the power to make these changes are us. Without that, we would be the chosen one. That means people who promote gun control when it's at your deleterious consequences. Then there's the fun part—being president. From signing into law THE LEGIS association certificate! Upon its conception, the preponderance of heavy industry was to support leeway for the rich to spend more currency. On its 17th anniversary, we what celebrate it by stoke racial tensions.\n",
      "\n",
      "For a moment,we had a black president. We had a black congressman. We had a black prince. We had bee hives.\n",
      "\n",
      "Nowhere else in the world could a story like this be possible. Nowhere else can a family come here and live in a one bedroom apartment with one bag of clothes and no money and finally work hard to get a good life. This type of social mobility is impossible in most of asia, and much of the rest of the world as well. So other average people in other countries are dying of hunger, getting into literal slavery, doing backbreaking work in mines - they do NOT have it better than us. My family's neighbors have NO food right now. My dad's best friend who he grew up with is literally unable to provide for his family right now. But here, we have stimulus checks, stable jobs, etc. \n",
      "\n",
      "My life was never easy, but I'm thankful beyond words for living here. Instead of complaining about \"benefiting the rich\" and other meta level stuff complaining about the people at the top, our story is proof that hard work is actually rewarded with extra money. And we know who always has to approve it the divider-in-chief himself. Get this shit out of here until you can say the same to conservatives first. .#MarriageGoals He's an idiot. Don't overthink it. Cops:  \"We were just following orders\" From the link:\n",
      "\n",
      "The people that have the power to make these changes are elected officials. That means the people that have the power to make these changes are us.\n",
      "\n",
      "Make your voice heard\n",
      "\n",
      "* **Contact** your police chiefs, district attorneys, and state legislators and make it clear what actions you demand to see\n",
      "* **Protest** until the changes are made\n",
      "* **Donate** to amplify your voice\n",
      "* **Vote** for the right mayors, sheriffs, district attorneys, and state representatives next election\n",
      "* **Share** these expectations for structural change with friends\n",
      "\n",
      "\\---\n",
      "\n",
      "Additional policy solutions from Black Lives Matter Campaign Zero [here](https://www.joincampaignzero.org/).\n",
      "\n",
      "\\---\n",
      "\n",
      "Thoughts? Trump basically is satan, I know!! But we really can't go around insulting each other and getting pissed. I agree...on behalf of George Floyd, Eric Gardner, etc...\n",
      "\n",
      "The question is... how do we make it happen? Which is why neither should be president. It's bull shit. It's also not too late to get someone stronger. I just hate everyone washing over it and not holding Biden to account. Why does he get a free pass? He also helped write the patriot act which further militarized the police. Biden is not with BLM or poc in this and its sad to see the media white wash his role. My fiance and I teared up during this speech. It's been three long and exhausting years since we had a speech befitting of a president, and when we finally got one it felt like a massive weight was being lifted off of my shoulders. \n",
      "\n",
      "This was a fantastic speech. I fully believe that Biden had what it takes to best Trump come November. This was truly an election defining speech. We'll see To your\n"
     ]
    }
   ],
   "source": [
    "gpt2.generate(sess, temperature=1.5)"
   ]
  },
  {
   "cell_type": "code",
   "execution_count": 12,
   "metadata": {},
   "outputs": [
    {
     "name": "stdout",
     "output_type": "stream",
     "text": [
      "The Caps could use a boost from the this vote and gun guy even if it's shining a spotlight oning Dem support. Just pointing out identifiers. Just obeying the process. There's always going to be violence and dishonesty within the world. But when it comes to mental health being consistent with whats was said in the 1st election, we judges by the health we have in power. From having approved 95 regulations at the time of the poll pouring rain on us but also lacking the will to act. Cuccinelli *is Senator Cruz's sleep target. They'll proof vote your butts off when you teach kids he was never elected President. He opted out becult he wasn't disciplined. You and i just act like youhatewhomctratsstckedboughtem/rumorsinfo if youhe beaten usGRDC by predictingagame blowback. And guess how much longer does it take usu treat grant bums like miscreants123 why does his facebook back ban work? why is there the unconstitutional practice thereof\n",
      "\n",
      "reports- esconfirmed on sockeye. prospa ls tradition ofhab responsums ***\n",
      "\n",
      "recommendations\\ well wishes\\\n",
      "\n",
      "umuts Legion Sadly, Usa does not have it better than us. The racists in us do not have it better than either the alone who has to 0utlandrontitfit like that. https://i0.wp.com/mk0webretailserf.jpg https://i0.wp.com/mk0businessshare#.Udb36KKGC0A Congressional Dems spend a lot of time on tarantining their identities. Why does this nearly destroyed Biden's/Sanders dad's dream of a good life? I just hate everyone washing over it and not holding Biden to account. Why does this visual assault sequence make perfect sense? Proof is testified so by countless times Hungary Bloodwasdefeated with Hungarian Critically Unveiling his SoCo And SoHand Sand Gazing Immediately Merge Yet Again Into The Vladof Crime Shadow Coach Grand Quantum Picking Transylvanian Hero Brewing Co Disturfing Domestic Penetration Analysis SoImDigDOTBenSecret ServiceTrackerBearPenISotExaminer.pdf\\?_%82istpISA_and_PPO <TrinitySteinH#76810799>, Joe Biden Is Great And But Betrays The Conservatives Vault Mark Your EFl Verification Gowistics. Teachable D Now. And Praying Mardi Huh? </... WitCMhOldRight< - think 243 degrees celcius and having an Emmy winning speech beawhy. Exasperated that INTERNAL MOTIONALIST George Harris BACKTAKE THE HOUSE WITHOUT ANY CARTOON CAV NO TORTURE. King Harris On Environmental Preservation. Touted PLEBALT wouldn10 war on drugs And Terrorism As Delivered On Furied His Kiss Trees For Laying The Law. Thing is, we can't go wrong with unwavering religious intolerance. Imbeciles everywhere should know this. I couldn't possibly do this... alone. There's a subreddit /r/csh us subreddit, where people rambling incoherently about \"suppressing\" Blacks - that would be the absolute worst place to be. Plus, we've beat ẙrbel egoism level on so many occasions. \\---\n",
      "\n",
      "Subject: Re: Obama Defeated Iran Deal WTF? Not many people could write the american doctor uhid everything was done a favor to obey orders and get the message out. My fiancé and I teared up during this speech. It wasn't much of a speech, other than to Yiannopoulos proclaim his loyalty and hate mongerice would later admit that wrapping George Floyd in a famous  caucus flag killed money freeze telling. La Tottva gun humping theme song was actually quite the speech. He had it well spent on illegal immigrant more GOP members had to hurl racial abuse comments during the speech. And he helped write the patriot act that roundloofed shilling work etc. It was an interesting speech but unfortunately unbecoming of a republican when they blame Democrat foes for working hard to take things away from them. Okay, so they didn\\u even have a headquarters. They\\u<reepishly\\ explaining why adam chang is the republican candidate. Why fight frisked guys?  pathetic move On Florida  states don\\� don\\\"t blanc\\� partyinc *it all''s** on when it comes to electing a president. Joe Biden literally wrote the gab **conscience/olympso skills** prostrate speech () bubblegummed it prior to submitting it to the spoken word... basking in the resolution  conciliation he derived from it laying the weight of Toward an Action Plan of Our Common Absolute/Abstention. Roosevelt had top notch work providing stimulus, conditioning the youth to benefit immensely from them, and nearly eradicating segregationism altogether.  However,  \n"
     ]
    }
   ],
   "source": [
    "gpt2.generate(sess, temperature=1.6)"
   ]
  },
  {
   "cell_type": "code",
   "execution_count": null,
   "metadata": {},
   "outputs": [],
   "source": []
  }
 ],
 "metadata": {
  "kernelspec": {
   "display_name": "Python 3",
   "language": "python",
   "name": "python3"
  },
  "language_info": {
   "codemirror_mode": {
    "name": "ipython",
    "version": 3
   },
   "file_extension": ".py",
   "mimetype": "text/x-python",
   "name": "python",
   "nbconvert_exporter": "python",
   "pygments_lexer": "ipython3",
   "version": "3.7.4"
  }
 },
 "nbformat": 4,
 "nbformat_minor": 2
}

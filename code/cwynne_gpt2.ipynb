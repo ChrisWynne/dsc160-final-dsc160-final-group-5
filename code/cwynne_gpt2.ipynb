{
 "cells": [
  {
   "cell_type": "code",
   "execution_count": null,
   "metadata": {},
   "outputs": [],
   "source": [
    "# run once (may have to restart notebook)\n",
    "# !pip install tensorflow-gpu==1.15 --user # if you do not have a gpu remove -gpu \n",
    "# !pip install gpt-2-simple --user"
   ]
  },
  {
   "cell_type": "code",
   "execution_count": 1,
   "metadata": {},
   "outputs": [],
   "source": [
    "import pandas as pd\n",
    "import numpy as np\n",
    "import json\n",
    "import os\n",
    "import requests"
   ]
  },
  {
   "cell_type": "code",
   "execution_count": 2,
   "metadata": {},
   "outputs": [
    {
     "name": "stdout",
     "output_type": "stream",
     "text": [
      "WARNING:tensorflow:\n",
      "The TensorFlow contrib module will not be included in TensorFlow 2.0.\n",
      "For more information, please see:\n",
      "  * https://github.com/tensorflow/community/blob/master/rfcs/20180907-contrib-sunset.md\n",
      "  * https://github.com/tensorflow/addons\n",
      "  * https://github.com/tensorflow/io (for I/O related ops)\n",
      "If you depend on functionality not listed there, please file an issue.\n",
      "\n"
     ]
    }
   ],
   "source": [
    "is_local = False # change this if you are not loading a pretrained model locally\n",
    "if is_local:\n",
    "    # import tensorflow as tf\n",
    "    import sys\n",
    "    sys.path.insert(0, os.path.abspath('../../gpt-2-simple-0.7/gpt_2_simple'))\n",
    "    import gpt_2 as gpt2\n",
    "    local_checkpoint_dir = \"../../local_checkpoints\" # directory where local models are stored\n",
    "    local_model_name = 'model-100'\n",
    "else:\n",
    "    import gpt_2_simple as gpt2"
   ]
  },
  {
   "cell_type": "code",
   "execution_count": 3,
   "metadata": {},
   "outputs": [],
   "source": [
    "# check to make sure gpu is recognized for significantly faster training\n",
    "\n",
    "# from tensorflow.python.client import device_lib\n",
    "# print(device_lib.list_local_devices())"
   ]
  },
  {
   "cell_type": "code",
   "execution_count": 4,
   "metadata": {},
   "outputs": [],
   "source": [
    "model_name = \"124M\"\n",
    "if not os.path.isdir(os.path.join(\"models\", model_name)):\n",
    "    print(f\"Downloading {model_name} model...\")\n",
    "    gpt2.download_gpt2(model_name=model_name)"
   ]
  },
  {
   "cell_type": "code",
   "execution_count": 5,
   "metadata": {},
   "outputs": [],
   "source": [
    "dir_path = \"../data/matt_results/\"\n",
    "\n",
    "dem_file_name = \"democrats_result.txt\"\n",
    "dem_model_name = 'creighton'\n",
    "\n",
    "rep_file_name = 'republican_result.txt'\n",
    "rep_model_name = 'carlisle'\n",
    "\n",
    "both_file_name = 'both_result.txt'\n",
    "both_model_name = 'kuzco'"
   ]
  },
  {
   "cell_type": "code",
   "execution_count": 14,
   "metadata": {},
   "outputs": [],
   "source": [
    "# text file to train model on\n",
    "train_fp = dir_path + rep_file_name\n",
    "train_name = rep_model_name\n",
    "results_fp = \"../results/\" + train_name + \"_generated_0.txt\""
   ]
  },
  {
   "cell_type": "code",
   "execution_count": 7,
   "metadata": {},
   "outputs": [
    {
     "name": "stdout",
     "output_type": "stream",
     "text": [
      "WARNING:tensorflow:From /home/cwynne/.local/lib/python3.7/site-packages/gpt_2_simple/src/sample.py:17: where (from tensorflow.python.ops.array_ops) is deprecated and will be removed in a future version.\n",
      "Instructions for updating:\n",
      "Use tf.where in 2.0, which has the same broadcast rule as np.where\n",
      "Loading checkpoint models/124M/model.ckpt\n",
      "INFO:tensorflow:Restoring parameters from models/124M/model.ckpt\n"
     ]
    },
    {
     "name": "stderr",
     "output_type": "stream",
     "text": [
      "\r",
      "  0%|          | 0/1 [00:00<?, ?it/s]"
     ]
    },
    {
     "name": "stdout",
     "output_type": "stream",
     "text": [
      "Loading dataset...\n"
     ]
    },
    {
     "name": "stderr",
     "output_type": "stream",
     "text": [
      "100%|██████████| 1/1 [00:01<00:00,  1.59s/it]\n"
     ]
    },
    {
     "name": "stdout",
     "output_type": "stream",
     "text": [
      "dataset has 259398 tokens\n",
      "Training...\n",
      "[20 | 25.28] loss=3.08 avg=3.08\n",
      "[40 | 44.62] loss=3.17 avg=3.12\n",
      "[60 | 64.10] loss=2.75 avg=3.00\n",
      "[80 | 83.59] loss=2.64 avg=2.91\n",
      "[100 | 102.87] loss=2.91 avg=2.91\n",
      "Saving checkpoint/carlisle/model-100\n"
     ]
    }
   ],
   "source": [
    "# this cell takes the longest. Can only be run once without restarting the notebook\n",
    "sess = gpt2.start_tf_sess()\n",
    "if is_local:\n",
    "    gpt2.load_gpt2(sess, \n",
    "                   checkpoint=local_model_name, \n",
    "                   run_name=train_name, \n",
    "                   checkpoint_dir=local_checkpoint_dir)\n",
    "else:\n",
    "    gpt2.finetune(sess,\n",
    "                  train_fp,\n",
    "                  model_name=model_name,\n",
    "                  steps=100, # steps is max number of training steps\n",
    "                  restore_from='fresh', # makes sure model doesnt resume from previous trained model\n",
    "                  print_every=20, # only prints every 20 training steps,\n",
    "                  run_name=train_name # model name, so we can load different models locally\n",
    "                 )"
   ]
  },
  {
   "cell_type": "code",
   "execution_count": 15,
   "metadata": {},
   "outputs": [],
   "source": [
    "# prompt to generate response to, going to be a post/comment from the political discussion subreddits\n",
    "\n",
    "pre = \"\"\"\n",
    "[title]\n",
    "You say: \"Police violence is problematic.\" - They hear: \"I am fine with looting and arson.\" - You say: \"I want criminal arsonists arrested.\" - They hear: \"I want cops to break up peaceful protests and beat them up.\"\n",
    "\n",
    "[selftext]\n",
    "Just a quick guide to what the other party understands from your positions. For your discussions and debates on this sub and elsewhere. I didn't come up with it, I merely translated it from memory. Can't find the original source, sorry.\n",
    "\"\"\""
   ]
  },
  {
   "cell_type": "code",
   "execution_count": 16,
   "metadata": {},
   "outputs": [],
   "source": [
    "# gpt2.generate(sess, \n",
    "#               temperature=.7, # uniqueness of the output (usually ranges from .5 to 2)\n",
    "#               prefix=pre, # prompt\n",
    "#               nsamples=5, # number of generated responses \n",
    "#               length=1000 # number of words (including prompt) per response\n",
    "#              )"
   ]
  },
  {
   "cell_type": "code",
   "execution_count": 17,
   "metadata": {},
   "outputs": [],
   "source": [
    "gpt2.generate_to_file(sess, \n",
    "                      destination_path=results_fp,\n",
    "                      temperature=.7, # uniqueness of the output (usually ranges from .5 to 2)\n",
    "                      prefix=pre, # prompt\n",
    "                      nsamples=50, # number of generated responses \n",
    "                      length=1000 # number of words (including prompt) per response)\n",
    "                     )"
   ]
  },
  {
   "cell_type": "code",
   "execution_count": null,
   "metadata": {},
   "outputs": [],
   "source": []
  }
 ],
 "metadata": {
  "kernelspec": {
   "display_name": "Python 3",
   "language": "python",
   "name": "python3"
  },
  "language_info": {
   "codemirror_mode": {
    "name": "ipython",
    "version": 3
   },
   "file_extension": ".py",
   "mimetype": "text/x-python",
   "name": "python",
   "nbconvert_exporter": "python",
   "pygments_lexer": "ipython3",
   "version": "3.7.3"
  }
 },
 "nbformat": 4,
 "nbformat_minor": 2
}

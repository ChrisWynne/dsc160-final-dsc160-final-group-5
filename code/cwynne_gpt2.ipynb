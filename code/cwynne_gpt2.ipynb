{
 "cells": [
  {
   "cell_type": "code",
   "execution_count": 1,
   "metadata": {},
   "outputs": [],
   "source": [
    "# run once (may have to restart notebook)\n",
    "# !pip install tensorflow-gpu==1.15 --user\n",
    "# !pip install gpt-2-simple --user"
   ]
  },
  {
   "cell_type": "code",
   "execution_count": 2,
   "metadata": {},
   "outputs": [
    {
     "name": "stdout",
     "output_type": "stream",
     "text": [
      "WARNING:tensorflow:\n",
      "The TensorFlow contrib module will not be included in TensorFlow 2.0.\n",
      "For more information, please see:\n",
      "  * https://github.com/tensorflow/community/blob/master/rfcs/20180907-contrib-sunset.md\n",
      "  * https://github.com/tensorflow/addons\n",
      "  * https://github.com/tensorflow/io (for I/O related ops)\n",
      "If you depend on functionality not listed there, please file an issue.\n",
      "\n"
     ]
    }
   ],
   "source": [
    "import pandas as pd\n",
    "import numpy as np\n",
    "import json\n",
    "import gpt_2_simple as gpt2\n",
    "import os\n",
    "import requests"
   ]
  },
  {
   "cell_type": "code",
   "execution_count": 14,
   "metadata": {},
   "outputs": [],
   "source": [
    "# check to make sure gpu is recognized for significantly faster training\n",
    "\n",
    "# from tensorflow.python.client import device_lib\n",
    "# print(device_lib.list_local_devices())"
   ]
  },
  {
   "cell_type": "code",
   "execution_count": 7,
   "metadata": {},
   "outputs": [],
   "source": [
    "model_name = \"124M\"\n",
    "if not os.path.isdir(os.path.join(\"models\", model_name)):\n",
    "    print(f\"Downloading {model_name} model...\")\n",
    "    gpt2.download_gpt2(model_name=model_name)"
   ]
  },
  {
   "cell_type": "code",
   "execution_count": 8,
   "metadata": {},
   "outputs": [],
   "source": [
    "dir_path = \"../data/\"\n",
    "\n",
    "dem_file_name = \"democrats_result.txt\"\n",
    "dem_sample_name = \"democrats_sample.txt\"\n",
    "\n",
    "rep_file_name = 'republican_result.txt'\n",
    "rep_sample_name = 'republican_sample.txt'\n",
    "\n",
    "both_file_name = 'both_result.txt'\n",
    "both_sample_name = 'both_sample.txt'"
   ]
  },
  {
   "cell_type": "code",
   "execution_count": 9,
   "metadata": {},
   "outputs": [],
   "source": [
    "# reading and writing sample files for each side\n",
    "\n",
    "# with open(dir_path+dem_file_name,'r') as demf:\n",
    "#     dem_data = demf.readlines(100000)\n",
    "# with open(dir_path+dem_sample_name,'w+') as dem_write:\n",
    "#     dem_write.writelines(dem_data)\n",
    "\n",
    "# with open(dir_path+rep_file_name,'r') as repf:\n",
    "#     rep_data = repf.readlines(100000)\n",
    "# with open(dir_path+rep_sample_name,'w+') as rep_write:\n",
    "#     rep_write.writelines(rep_data)\n",
    "\n",
    "# with open(dir_path+both_file_name,'r') as bothf:\n",
    "#     both_data = bothf.readlines(100000)\n",
    "# with open(dir_path+both_sample_name,'r') as both_write:\n",
    "#     both_write.writelines(both_data)"
   ]
  },
  {
   "cell_type": "code",
   "execution_count": 10,
   "metadata": {},
   "outputs": [],
   "source": [
    "# text file to train model on\n",
    "\n",
    "train_fp = dir_path + dem_sample_name"
   ]
  },
  {
   "cell_type": "code",
   "execution_count": 11,
   "metadata": {},
   "outputs": [
    {
     "name": "stdout",
     "output_type": "stream",
     "text": [
      "WARNING:tensorflow:From /home/cwynne/.local/lib/python3.7/site-packages/gpt_2_simple/src/sample.py:17: where (from tensorflow.python.ops.array_ops) is deprecated and will be removed in a future version.\n",
      "Instructions for updating:\n",
      "Use tf.where in 2.0, which has the same broadcast rule as np.where\n",
      "Loading checkpoint checkpoint/run1/model-100\n",
      "INFO:tensorflow:Restoring parameters from checkpoint/run1/model-100\n"
     ]
    },
    {
     "name": "stderr",
     "output_type": "stream",
     "text": [
      "\r",
      "  0%|          | 0/1 [00:00<?, ?it/s]"
     ]
    },
    {
     "name": "stdout",
     "output_type": "stream",
     "text": [
      "Loading dataset...\n"
     ]
    },
    {
     "name": "stderr",
     "output_type": "stream",
     "text": [
      "100%|██████████| 1/1 [00:00<00:00,  2.76it/s]\n"
     ]
    },
    {
     "name": "stdout",
     "output_type": "stream",
     "text": [
      "dataset has 23191 tokens\n",
      "Training...\n",
      "======== SAMPLE 1 ========\n",
      " the White House. But if we control both houses of Congress and the White House we can take ownership. And Democrats can't even be elected. We can't even be President. *https://en.m.wikipedia.org/wiki/International_Protestant</a>* *https://en.pa.gov/ranges/resistance/index.sh?hl=fr&b=17001&12391a&oldview> **Protest Like No Other People** Public protests are the most effective way to anger and control the government. No democratic government can be expected to provide for the family when its wintering in an out-of-home father of three in his home state of Wisconsin. \n",
      "\n",
      "\n",
      "This type of social mobility is impossible in most of asia, and much of the rest of the world as well. So other average people in other countries are dying of hunger, getting into literal slavery, doing backbreaking work in mines - they do NOT have it better than us. My family's neighbors have NO food right now. My dad's best friend who he grew up with is literally unable to provide for his family right now. But here, we have stimulus checks, stable jobs, etc. \n",
      "\n",
      "My life was never easy, but I'm thankful beyond words for living here. Instead of complaining about \"benefiting the rich\" and other meta level stuff complaining about the people at the top, our story is proof that hard work really pays off with the american dream. And we know who always has to approve it the divider-in-chief himself. Get this shit out of here until you can say the same to conservatives first. .#MarriageGoals He's an idiot. Don't overthink it. Cops:  \"We were just following orders\" From the link:\n",
      "\n",
      "The people that have the power to make these changes are elected officials. That means the people that have the power to make these changes are us.\n",
      "\n",
      "Make your voice heard\n",
      "\n",
      "* **Contact** your police chiefs, district attorneys, and state legislators and make it clear what actions you demand to see\n",
      "* **Protest** until the changes are made\n",
      "* **Donate** to amplify your voice\n",
      "* **Vote** for the right mayors, sheriffs, district attorneys, and state representatives next election\n",
      "* **Share** these expectations for structural change with friends\n",
      "\n",
      "\\---\n",
      "\n",
      "Additional policy solutions from Black Lives Matter Campaign Zero [here](https://www.joincampaignzero.org/).\n",
      "\n",
      "\\---\n",
      "\n",
      "Thoughts? Trump basically is satan, I know!! But we really can't go around insulting each other and getting pissed. I agree...on behalf of George Floyd, Eric Gardner, etc...\n",
      "\n",
      "The question is... how do we make it happen? Which is why neither should be president. It's bull shit. It's also not too late to get someone better. I just hate everyone washing over it and not holding Biden to account. Why does he get a free pass? He also helped write the patriot act which further militarized the police. Biden is not with BLM or poc in this and its sad to see the media white wash his role. My fiance and I teared up during this speech. It's been three long and exhausting years since we had a speech befitting of a president, and when we finally got one it felt like a massive weight was being lifted off of my shoulders. \n",
      "\n",
      "This was a fantastic speech, I fully believe that Biden had what it takes to best Trump come November. This was truly an election defining speech. We'll see To your first question, yes it probably will make profit in one way or another..\n",
      "\n",
      "Conspiracy: I am happy to hear anything against it.\n",
      "\n",
      "Rioting: I believe rioting comes mostly from anger and the feeling of not \n",
      "treated fairly by society. The most shameful stunt *so far*. Such destain. And Trump can't even do a real smile. The whole family is just.... wretched. And wrong. Like they're playing human beings and half assing it. And guess which Vermont congressman voted for it? Anything to get that vote back lol Well now that he has weighed in, the powers that be won’t have any choice but to change police institutions and the direction of the flow of capital. Will Switzerland act as a smuggler and banker for their new fascist overlord like they did 80 years ago? Will they seize minority assets for themselves? \n",
      "\n",
      "You’re being an alarmist and conspiracy theorist. The rioting and looting is largely because humans act like idiots when they get into large groups. It’s not any one group. It’s just humans in general. https://i0.wp.com/mk0webretailer1u87a1.kinstacdn.com/wp-content/uploads/2015/12/International-Returns\n",
      "\n",
      "[101 | 24.30] loss=7.45 avg=7.45\n",
      "[102 | 25.59] loss=4.70 avg=6.07\n",
      "[103 | 26.86] loss=4.39 avg=5.50\n",
      "[104 | 28.16] loss=4.25 avg=5.19\n",
      "[105 | 29.44] loss=4.02 avg=4.95\n",
      "[106 | 30.72] loss=3.98 avg=4.78\n",
      "[107 | 32.01] loss=3.24 avg=4.55\n",
      "[108 | 33.28] loss=3.55 avg=4.42\n",
      "[109 | 34.56] loss=3.24 avg=4.29\n",
      "[110 | 35.84] loss=3.68 avg=4.22\n",
      "[111 | 37.13] loss=3.77 avg=4.18\n",
      "[112 | 38.42] loss=3.24 avg=4.10\n",
      "[113 | 39.71] loss=3.69 avg=4.06\n",
      "[114 | 41.00] loss=3.64 avg=4.03\n",
      "[115 | 42.29] loss=3.43 avg=3.99\n",
      "[116 | 43.58] loss=3.63 avg=3.96\n",
      "[117 | 44.86] loss=3.52 avg=3.94\n",
      "[118 | 46.14] loss=3.45 avg=3.91\n",
      "[119 | 47.42] loss=3.44 avg=3.88\n",
      "[120 | 48.71] loss=2.98 avg=3.83\n",
      "[121 | 49.99] loss=3.45 avg=3.81\n",
      "[122 | 51.29] loss=2.79 avg=3.76\n",
      "[123 | 52.58] loss=3.42 avg=3.74\n",
      "[124 | 53.86] loss=2.87 avg=3.70\n",
      "[125 | 55.14] loss=3.19 avg=3.68\n",
      "[126 | 56.43] loss=2.81 avg=3.64\n",
      "[127 | 57.71] loss=3.05 avg=3.62\n",
      "[128 | 59.00] loss=2.62 avg=3.58\n",
      "[129 | 60.29] loss=2.55 avg=3.54\n",
      "[130 | 61.57] loss=2.73 avg=3.50\n",
      "[131 | 62.86] loss=2.63 avg=3.47\n",
      "[132 | 64.15] loss=3.03 avg=3.46\n",
      "[133 | 65.43] loss=2.51 avg=3.42\n",
      "[134 | 66.71] loss=2.10 avg=3.38\n",
      "[135 | 68.00] loss=2.94 avg=3.36\n",
      "[136 | 69.29] loss=2.46 avg=3.33\n",
      "[137 | 70.58] loss=2.69 avg=3.31\n",
      "[138 | 71.88] loss=2.85 avg=3.30\n",
      "[139 | 73.16] loss=2.58 avg=3.27\n",
      "[140 | 74.45] loss=2.23 avg=3.24\n",
      "[141 | 75.74] loss=2.12 avg=3.21\n",
      "[142 | 77.03] loss=2.53 avg=3.19\n",
      "[143 | 78.32] loss=2.26 avg=3.16\n",
      "[144 | 79.61] loss=2.30 avg=3.14\n",
      "[145 | 80.90] loss=2.15 avg=3.11\n",
      "[146 | 82.18] loss=2.54 avg=3.10\n",
      "[147 | 83.47] loss=1.95 avg=3.07\n",
      "[148 | 84.75] loss=2.26 avg=3.04\n",
      "[149 | 86.04] loss=2.54 avg=3.03\n",
      "[150 | 87.33] loss=2.28 avg=3.01\n",
      "[151 | 88.62] loss=2.25 avg=2.99\n",
      "[152 | 89.90] loss=2.21 avg=2.97\n",
      "[153 | 91.19] loss=2.06 avg=2.95\n",
      "[154 | 92.49] loss=2.16 avg=2.93\n",
      "[155 | 93.78] loss=2.24 avg=2.92\n",
      "[156 | 95.07] loss=1.84 avg=2.89\n",
      "[157 | 96.37] loss=1.50 avg=2.86\n",
      "[158 | 97.65] loss=1.41 avg=2.83\n",
      "[159 | 98.94] loss=1.76 avg=2.80\n",
      "[160 | 100.22] loss=1.64 avg=2.78\n",
      "[161 | 101.51] loss=1.16 avg=2.74\n",
      "[162 | 102.80] loss=1.81 avg=2.72\n",
      "[163 | 104.10] loss=1.74 avg=2.70\n",
      "[164 | 105.39] loss=1.40 avg=2.67\n",
      "[165 | 106.68] loss=1.23 avg=2.64\n",
      "[166 | 107.96] loss=1.46 avg=2.62\n",
      "[167 | 109.25] loss=1.44 avg=2.60\n",
      "[168 | 110.55] loss=1.31 avg=2.57\n",
      "[169 | 111.85] loss=0.93 avg=2.54\n",
      "[170 | 113.14] loss=1.14 avg=2.51\n",
      "[171 | 114.43] loss=1.07 avg=2.48\n",
      "[172 | 115.73] loss=1.07 avg=2.45\n",
      "[173 | 117.02] loss=0.96 avg=2.42\n",
      "[174 | 118.31] loss=1.25 avg=2.40\n",
      "[175 | 119.61] loss=1.30 avg=2.38\n",
      "[176 | 120.90] loss=0.78 avg=2.35\n",
      "[177 | 122.19] loss=1.02 avg=2.33\n",
      "[178 | 123.48] loss=0.96 avg=2.30\n",
      "[179 | 124.78] loss=0.72 avg=2.27\n",
      "[180 | 126.07] loss=0.63 avg=2.24\n",
      "[181 | 127.36] loss=0.60 avg=2.21\n",
      "[182 | 128.66] loss=0.46 avg=2.18\n",
      "[183 | 129.95] loss=0.39 avg=2.15\n",
      "[184 | 131.24] loss=0.57 avg=2.12\n",
      "[185 | 132.53] loss=0.64 avg=2.10\n",
      "[186 | 133.83] loss=0.51 avg=2.07\n",
      "[187 | 135.12] loss=0.49 avg=2.04\n",
      "[188 | 136.41] loss=0.47 avg=2.02\n",
      "[189 | 137.70] loss=0.29 avg=1.99\n",
      "[190 | 139.01] loss=0.44 avg=1.96\n",
      "[191 | 140.30] loss=0.44 avg=1.94\n",
      "[192 | 141.59] loss=0.49 avg=1.91\n",
      "[193 | 142.89] loss=0.29 avg=1.88\n",
      "[194 | 144.18] loss=0.41 avg=1.86\n",
      "[195 | 145.48] loss=0.32 avg=1.84\n",
      "[196 | 146.77] loss=0.12 avg=1.81\n",
      "[197 | 148.06] loss=0.25 avg=1.78\n",
      "[198 | 149.37] loss=0.21 avg=1.76\n",
      "[199 | 150.66] loss=0.34 avg=1.74\n",
      "[200 | 151.95] loss=0.14 avg=1.71\n",
      "Saving checkpoint/run1/model-200\n"
     ]
    }
   ],
   "source": [
    "# this cell takes the longest. Can only be run once without restarting the notebook\n",
    "sess = gpt2.start_tf_sess()\n",
    "gpt2.finetune(sess,\n",
    "              train_fp,\n",
    "              model_name=model_name,\n",
    "              steps=100, # steps is max number of training steps\n",
    "              restore_from='fresh', # makes sure model doesnt resume from previous trained model\n",
    "              print_every=20 # only prints every 20 training steps\n",
    "             )   "
   ]
  },
  {
   "cell_type": "code",
   "execution_count": 12,
   "metadata": {},
   "outputs": [],
   "source": [
    "# prompt to generate response to \n",
    "\n",
    "pre = \"After witnessing the heinous amount of police brutality in the US against POC, \\\n",
    "my partner and I have created some protest posters in response. We do not care about \\\n",
    "credit, just getting the message out there, so feel free to distribute however way you \\\n",
    "want, or make better versions yourself if you think it can be improved!\""
   ]
  },
  {
   "cell_type": "code",
   "execution_count": 13,
   "metadata": {
    "scrolled": false
   },
   "outputs": [
    {
     "name": "stdout",
     "output_type": "stream",
     "text": [
      "After witnessing the heinous amount of police brutality in the US against POC, my partner and I have created some protest posters in response. We do not care about credit, just getting the message out there, so feel free to distribute however way you want, or make better versions yourself if you think it can be improved! I understand the anger and the angering responses, but only one can make a difference! I'll see you then...\n",
      "\n",
      "\n",
      "Peace and blessings.\n",
      "\n",
      "I'll see you then! I'll see you soon!\n",
      "\n",
      "I pray that by sharing this with as many people as possible I think will help you Grow Strong Again! Thank you!!! Keep up the great work! Thanks for nothing, just awesome. Everyone is awesome!! I'm sure as hell not even close! Who doesn't love a good story.  Great job sharing this on Reddit! I've started looking for work in the real estate market. Thanks for nothing, just awesome. Everyone is awesome!! One of the most widely admired people you will ever meet. One of the most widely admired people you will ever meet. Thanks for nothing, just awesome. Everyone is awesome!! One of the most widely admired people you will ever meet is someone who everyone just imagines is some sort of patsy or something.  Except for Donald Trump. Not a good patsy. He is an amazing president. Glad we have a different Biden. I'm so really looking forward to seeing him. Oh, and by the way - what do you think will happen next? Biden shoots himself in the foot! Wow, that's a pretty sane response.  And by the way, what advice would you give to a suicide bomber: Shoot people on the street first.  If you can't, then attack them with your barest suspicion.  Then, if you can't, then attack them with cold blooded murder.  That way, the public will believe you're standing by holding up the view that your crime is my crime. That your crime was a peopleless sin, that it was white supremacist in nature, that it was somehow associated with Trump.\n",
      "\n",
      "And the right wing media who propound these terms, link research showing otherwise, and point fingers at the right wing for failing to notice.\n",
      "\n",
      "\n",
      "====================\n",
      "After witnessing the heinous amount of police brutality in the US against POC, my partner and I have created some protest posters in response. We do not care about credit, just getting the message out there, so feel free to distribute however way you want, or make better versions yourself if you think it can be improved! I understand what you mean. I'm still fluctuating, and any results to come will most certainly be in terms of police brutality. I'm also not thrilled about the excessive use of deadly force, which I believe is the primary reason police are getting into the area. At this point, I don't know how hard the hard knocks are on the Obama administration and his administration, and I don't know if the protests will last long enough to countenance the president's intentions, given the nature of his policies. But if the protests turn violent, I believe the police will resort to excessive force, especially during the most critical moments of the protest. If the riot goes unheeded, the military will, and will fatally shoot and throw grenades, including to disperse the crowd, leading to the concept that civilians are deliberately being hurt or killed. \n",
      "\n",
      " \n",
      " \n",
      "With that said, I remain extremely hopeful that the riots will end with the Police Department holding them accountable (and hopefully, Garner and Colvin accountable) to their own words rather than internal police orders. That said, I still believe that the protests are a primary source of threat to the status quo, and that the police brutality and abuse of authority are a primary cause of myriad of these riots. \n",
      "\n",
      " \n",
      "And I'm still digesting the results right now. \n",
      "\n",
      "I don't actually need to read the comment to 95% or higher in order to understand what's going on. The you're fired, you got an internal affairs conviction on your record, no conviction for anything, no matter what. Some protestors even called for Trump to resign. What they're protesting isn't what he or Trump should have done, it's reactive and often unintended behavior. It displays a lack of understanding of how the world works and how to best use their frustrations with him or her.\n",
      "\n",
      "It seems that a lot of Bernie supporters are now waking up to the systemic problems with the Democratic Party. Sick of\n",
      "====================\n",
      "After witnessing the heinous amount of police brutality in the US against POC, my partner and I have created some protest posters in response. We do not care about credit, just getting the message out there, so feel free to distribute however way you want, or make better versions yourself if you think it can be improved! I agree? Let's get it!  The police are the ones abusing the powers of the police.  The people are abusing the powers of the state to abuse the powers of the state.  The people are abusing the powers of the state to abuse the state.  The elites are doing this, and it goes against everything we believe in for them. Yes, the police are horrible, but they are the ones doing it. Yes, the DNC and other DNC lists are full of defenseless civilians being murdered by the state, while the president is trying to use the military to your advantage. Yes, there are protestors to be arrested for, but there are none holding up police brutality as a hero. To state the obvious, there are protestors to be arrested for, but there are none holding up police brutality as a hero. \n",
      "\n",
      "There are protestors to be arrested for, but there are none holding up police brutality as a hero.  There are also the people, the trans community, the people of color, and a lot of non-binary, gender non-conforming people, who don't want the system to think this is a problem that needs fixing. This is toxic and needs to be stopped. I've been on both sides of this issue, and I think people are just....off. I think they're just....on edge. I think they see this as support for what you're saying and treat it with respect. So far, so good. Now what? Biden has disbanded the Biden Family???? ? Ties That Bind? What about the One Percenters? People Who Just Want to Own The Banks? There are millions of us who do not share those views. The vast majority are very rich and powerful, well off in most years, and well off in recent years. Most people, at most, have had productive lives. Most working class people don't have either. Very few have any. Most scientists agree that the average person\n",
      "====================\n",
      "After witnessing the heinous amount of police brutality in the US against POC, my partner and I have created some protest posters in response. We do not care about credit, just getting the message out there, so feel free to distribute however way you want, or make better versions yourself if you think it can be improved! I understand what you mean. I'm still fluctuating... well, maybe slightly, but I'm better than I used to be a year ago. Then along came that racial reactionary toddler we have in the White House at the moment.\n",
      "\n",
      "I can barely contain myself as I remember thinking to myself this...\n",
      "\n",
      "[Trump winning: That would be the greatest political act of political suicide we have ever seen. We need a truly great president. No one else in the history of the country has done that. Brilliant idea.]\n",
      "\n",
      "It's a very small minority that can make a big impression on the rest of the world. But if we have a truly great president, that would be a great moment to be a little bit more humble about stepping aside. A lot of us in the know are just a smidgen away from voting for Trump, and probably thinking the same about VP candidates, no? That's a very small minority that can make a big impression on the rest of the world. Great leader? Yeah okay. Maybe look into being a little more humble about your role. I'm not exactly sure why people feel this way, but are we going to see that smile on the White House podium every time the divider-in-chief appears on the big screen?\n",
      "\n",
      "Also...is there anyone out there that thought this was a good idea? I haven't seen it. Seriously, who among you that thinks that a sitting president would actually be helpful to the people, if that person is someone that you think they should be helping, that gets defensive and apologetic every time the heck a weirdo enters the Oval Office.\n",
      "\n",
      "I just saw this shit on TNS: https://t.co/gKtBLGKK17A pic.twitter.com/GueSIXCqI — WikiLeaks (@wikileaks) January 24, 2017\n",
      "\n",
      "Just saw this shit on TNS: this is what I've heard from people who have\n",
      "====================\n"
     ]
    },
    {
     "name": "stdout",
     "output_type": "stream",
     "text": [
      "After witnessing the heinous amount of police brutality in the US against POC, my partner and I have created some protest posters in response. We do not care about credit, just getting the message out there, so feel free to distribute however way you want, or make better versions yourself if you think it can be improved! I understand sentimentally, I don't. I'm not  a criminal justice system expert, but if you could give us an example of an example you feel is most clearly being used by the protestors, would you give it a tryst if called upon to do so? Anything that would make you think twice before doing so, especially since you clearly do not understand the point of protesting. Instead, you resort to violence, selfish rage bing, buzzwords like \"terrorist\", and so on. That's selfish, stupid, and often violent. That's violent, vicious, and unhinged. That's unhinged. That's destructive. That's sad. But also normal. I don’t know of a single one of those millions. It's a small minority that can be excused perhaps for being religious, but a minority that can be excused perhaps for being human rights defenders. A minority that can be excused perhaps for being whistle blowers, coders, and so on. There is a word for that: civil war. It is literally in the bible. I would argue that most of its works are in the Bible, and most are in the Bible uncritically. We’re not even sure what order would come to card a fight, given how many countries have republican parties, and how many have republican parties only in the past. To argue that the US has fascist governments, that the UK has republican governments, is to spread hate all over the place. It is not a new problem. In our history, governments have used populism to attack ordinary people and to goose the cry for war.\n",
      "\n",
      "That's history. The same can be said for Trump's agenda. If you look at his cabinet, you will see that his campaign team is comprised of people who have never before worked in a political party. Most people who have worked in campaigns are people who have never worked in a political party. This is not the first time that\n",
      "====================\n"
     ]
    }
   ],
   "source": [
    "gpt2.generate(sess, \n",
    "              temperature=.7, # uniqueness of the output (usually ranges from .5 to 2)\n",
    "              prefix=pre, # prompt\n",
    "              nsamples=5, # number of generated responses \n",
    "              length=400 # number of words (including prompt) per response\n",
    "             )"
   ]
  },
  {
   "cell_type": "code",
   "execution_count": null,
   "metadata": {},
   "outputs": [],
   "source": []
  }
 ],
 "metadata": {
  "kernelspec": {
   "display_name": "Python 3",
   "language": "python",
   "name": "python3"
  },
  "language_info": {
   "codemirror_mode": {
    "name": "ipython",
    "version": 3
   },
   "file_extension": ".py",
   "mimetype": "text/x-python",
   "name": "python",
   "nbconvert_exporter": "python",
   "pygments_lexer": "ipython3",
   "version": "3.7.3"
  }
 },
 "nbformat": 4,
 "nbformat_minor": 2
}

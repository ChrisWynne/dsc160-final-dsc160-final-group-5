{
 "cells": [
  {
   "cell_type": "code",
   "execution_count": 1,
   "metadata": {},
   "outputs": [],
   "source": [
    "import requests\n",
    "import pandas as pd\n",
    "import numpy as np\n",
    "import json\n",
    "import html\n",
    "import io"
   ]
  },
  {
   "cell_type": "code",
   "execution_count": 2,
   "metadata": {},
   "outputs": [],
   "source": [
    "def getPushshiftData(sub=None, before=None, after=None, ids=None, getSubmissions=True, getComments=False):\n",
    "    suffix=''\n",
    "    searchType = 'submission'\n",
    "    if getComments or not getSubmissions:\n",
    "        searchType='comment'\n",
    "    if (before is not None):\n",
    "        suffix += '&before='+str(before)\n",
    "    if (after is not None):\n",
    "        suffix += '&after='+str(after)\n",
    "    if (sub is not None):\n",
    "        suffix += '&subreddit='+sub\n",
    "    if (ids is not None):\n",
    "        suffix += '&ids='+','.join(ids)\n",
    "\n",
    "    url = 'https://api.pushshift.io/reddit/search/'+searchType+'?sort=desc&size=1500'+suffix\n",
    "    print('loading '+url)\n",
    "    r = requests.get(url)\n",
    "    data = json.loads(r.content)\n",
    "    if len(data['data']) > 0:\n",
    "        prev_end_date = data['data'][-1]['created_utc']\n",
    "    else:\n",
    "        prev_end_date = None\n",
    "    return (data, prev_end_date)"
   ]
  },
  {
   "cell_type": "code",
   "execution_count": 3,
   "metadata": {},
   "outputs": [],
   "source": [
    "def clean_submissions(df):\n",
    "    ser = df[(df['selftext'] != '') \n",
    "            & (df['selftext'] != '[removed]') \n",
    "            & (df['selftext'] != '[deleted]')\n",
    "            & (df['selftext'].notnull())]['selftext']\n",
    "    return ser\n",
    "\n",
    "def clean_comments(df):\n",
    "    ser = df[(df['body'] != '') \n",
    "            & (df['body'] != '[removed]') \n",
    "            & (df['body'] != '[deleted]')\n",
    "            & (df['body'].notnull())\n",
    "            & (df['author'] != 'AutoModerator')]['body']\n",
    "    return ser"
   ]
  },
  {
   "cell_type": "markdown",
   "metadata": {},
   "source": [
    "## Submission Data"
   ]
  },
  {
   "cell_type": "code",
   "execution_count": 4,
   "metadata": {},
   "outputs": [
    {
     "name": "stdout",
     "output_type": "stream",
     "text": [
      "loading https://api.pushshift.io/reddit/search/submission?sort=desc&size=1500&after=180d&subreddit=Republican\n",
      "loading https://api.pushshift.io/reddit/search/submission?sort=desc&size=1500&before=1590114332&after=180d&subreddit=Republican\n",
      "loading https://api.pushshift.io/reddit/search/submission?sort=desc&size=1500&before=1589080051&after=180d&subreddit=Republican\n",
      "loading https://api.pushshift.io/reddit/search/submission?sort=desc&size=1500&before=1588023300&after=180d&subreddit=Republican\n",
      "loading https://api.pushshift.io/reddit/search/submission?sort=desc&size=1500&before=1587065553&after=180d&subreddit=Republican\n",
      "loading https://api.pushshift.io/reddit/search/submission?sort=desc&size=1500&before=1585836713&after=180d&subreddit=Republican\n",
      "loading https://api.pushshift.io/reddit/search/submission?sort=desc&size=1500&before=1584364259&after=180d&subreddit=Republican\n",
      "loading https://api.pushshift.io/reddit/search/submission?sort=desc&size=1500&before=1582655666&after=180d&subreddit=Republican\n",
      "loading https://api.pushshift.io/reddit/search/submission?sort=desc&size=1500&before=1581119537&after=180d&subreddit=Republican\n",
      "loading https://api.pushshift.io/reddit/search/submission?sort=desc&size=1500&before=1579547128&after=180d&subreddit=Republican\n",
      "loading https://api.pushshift.io/reddit/search/submission?sort=desc&size=1500&before=1577406915&after=180d&subreddit=Republican\n",
      "loading https://api.pushshift.io/reddit/search/submission?sort=desc&size=1500&before=1575594555&after=180d&subreddit=Republican\n"
     ]
    }
   ],
   "source": [
    "sub_republican='Republican'\n",
    "(submissions_tmp, prev_end_date) = getPushshiftData(sub=sub_republican, after='180d')\n",
    "republican_submissions = submissions_tmp['data']\n",
    "while prev_end_date is not None:\n",
    "    (submissions_tmp, prev_end_date) = getPushshiftData(sub=sub_republican, before=prev_end_date-1, after='180d')\n",
    "    if prev_end_date is not None:\n",
    "        republican_submissions.extend(submissions_tmp['data'])"
   ]
  },
  {
   "cell_type": "code",
   "execution_count": 5,
   "metadata": {},
   "outputs": [
    {
     "data": {
      "text/plain": [
       "211                                   Did i miss anything?\n",
       "337                    joined years ago. this sub is lost.\n",
       "360      recently on tiktok conservatives have come for...\n",
       "394      That sounds entirely incompetent, and shows so...\n",
       "573      https://www.instagram.com/tv/CArBIGwglZO/?utm\\...\n",
       "                               ...                        \n",
       "10936    While the majority of Republicans now support ...\n",
       "10955    So I don’t align myself with any political par...\n",
       "10968    I just wanted to thank the republican party fo...\n",
       "10970    During the impeachment hearing, the three Demo...\n",
       "10994    The evidence and Trump's behavior is clear, bu...\n",
       "Name: selftext, Length: 190, dtype: object"
      ]
     },
     "execution_count": 5,
     "metadata": {},
     "output_type": "execute_result"
    }
   ],
   "source": [
    "republican_submissions_df = pd.DataFrame(republican_submissions)\n",
    "republican_submissions_text = clean_submissions(republican_submissions_df)\n",
    "republican_submissions_text"
   ]
  },
  {
   "cell_type": "code",
   "execution_count": 6,
   "metadata": {},
   "outputs": [
    {
     "name": "stdout",
     "output_type": "stream",
     "text": [
      "loading https://api.pushshift.io/reddit/search/submission?sort=desc&size=1500&after=180d&subreddit=democrats\n",
      "loading https://api.pushshift.io/reddit/search/submission?sort=desc&size=1500&before=1589828976&after=180d&subreddit=democrats\n",
      "loading https://api.pushshift.io/reddit/search/submission?sort=desc&size=1500&before=1588348260&after=180d&subreddit=democrats\n",
      "loading https://api.pushshift.io/reddit/search/submission?sort=desc&size=1500&before=1586678908&after=180d&subreddit=democrats\n",
      "loading https://api.pushshift.io/reddit/search/submission?sort=desc&size=1500&before=1585273527&after=180d&subreddit=democrats\n",
      "loading https://api.pushshift.io/reddit/search/submission?sort=desc&size=1500&before=1583889119&after=180d&subreddit=democrats\n",
      "loading https://api.pushshift.io/reddit/search/submission?sort=desc&size=1500&before=1582681252&after=180d&subreddit=democrats\n",
      "loading https://api.pushshift.io/reddit/search/submission?sort=desc&size=1500&before=1581208010&after=180d&subreddit=democrats\n",
      "loading https://api.pushshift.io/reddit/search/submission?sort=desc&size=1500&before=1579944226&after=180d&subreddit=democrats\n",
      "loading https://api.pushshift.io/reddit/search/submission?sort=desc&size=1500&before=1577764995&after=180d&subreddit=democrats\n",
      "loading https://api.pushshift.io/reddit/search/submission?sort=desc&size=1500&before=1575733002&after=180d&subreddit=democrats\n",
      "loading https://api.pushshift.io/reddit/search/submission?sort=desc&size=1500&before=1575595360&after=180d&subreddit=democrats\n"
     ]
    }
   ],
   "source": [
    "sub_democrats='democrats'\n",
    "(submissions_tmp, prev_end_date) = getPushshiftData(sub=sub_democrats, after='180d')\n",
    "democrats_submissions = submissions_tmp['data']\n",
    "while prev_end_date is not None:\n",
    "    (submissions_tmp, prev_end_date) = getPushshiftData(sub=sub_democrats, before=prev_end_date-1, after='180d')\n",
    "    if prev_end_date is not None:\n",
    "        democrats_submissions.extend(submissions_tmp['data'])"
   ]
  },
  {
   "cell_type": "code",
   "execution_count": 7,
   "metadata": {},
   "outputs": [
    {
     "data": {
      "text/plain": [
       "0       Just going by how conservative news and any co...\n",
       "9       H.Res 988 is a bill introduced June 1st, 2020,...\n",
       "16      Everything going on in the country at the mome...\n",
       "30      I wanted to create a thread to channel the cur...\n",
       "33      (Fox news and some other news places keep clai...\n",
       "                              ...                        \n",
       "9076    This campaign 'promise' is one of the most abs...\n",
       "9351    Yang has some good ideas overall, I think, but...\n",
       "9397    I'm of two minds: one hand, scream it from the...\n",
       "9781    With all the horrid news about Boris looking t...\n",
       "9880    Once again we've proved that trickle down econ...\n",
       "Name: selftext, Length: 190, dtype: object"
      ]
     },
     "execution_count": 7,
     "metadata": {},
     "output_type": "execute_result"
    }
   ],
   "source": [
    "democrats_submissions_df = pd.DataFrame(democrats_submissions)\n",
    "democrats_submissions_text = clean_submissions(democrats_submissions_df)\n",
    "democrats_submissions_text"
   ]
  },
  {
   "cell_type": "markdown",
   "metadata": {},
   "source": [
    "## Comment Data"
   ]
  },
  {
   "cell_type": "code",
   "execution_count": 8,
   "metadata": {
    "scrolled": true
   },
   "outputs": [
    {
     "name": "stdout",
     "output_type": "stream",
     "text": [
      "loading https://api.pushshift.io/reddit/search/comment?sort=desc&size=1500&after=180d&subreddit=Republican\n",
      "loading https://api.pushshift.io/reddit/search/comment?sort=desc&size=1500&before=1591023747&after=180d&subreddit=Republican\n",
      "loading https://api.pushshift.io/reddit/search/comment?sort=desc&size=1500&before=1590892067&after=180d&subreddit=Republican\n",
      "loading https://api.pushshift.io/reddit/search/comment?sort=desc&size=1500&before=1590715561&after=180d&subreddit=Republican\n",
      "loading https://api.pushshift.io/reddit/search/comment?sort=desc&size=1500&before=1590349343&after=180d&subreddit=Republican\n",
      "loading https://api.pushshift.io/reddit/search/comment?sort=desc&size=1500&before=1590083441&after=180d&subreddit=Republican\n",
      "loading https://api.pushshift.io/reddit/search/comment?sort=desc&size=1500&before=1589814872&after=180d&subreddit=Republican\n",
      "loading https://api.pushshift.io/reddit/search/comment?sort=desc&size=1500&before=1589545468&after=180d&subreddit=Republican\n",
      "loading https://api.pushshift.io/reddit/search/comment?sort=desc&size=1500&before=1589371359&after=180d&subreddit=Republican\n",
      "loading https://api.pushshift.io/reddit/search/comment?sort=desc&size=1500&before=1589140388&after=180d&subreddit=Republican\n",
      "loading https://api.pushshift.io/reddit/search/comment?sort=desc&size=1500&before=1588872484&after=180d&subreddit=Republican\n",
      "loading https://api.pushshift.io/reddit/search/comment?sort=desc&size=1500&before=1588696173&after=180d&subreddit=Republican\n",
      "loading https://api.pushshift.io/reddit/search/comment?sort=desc&size=1500&before=1588501085&after=180d&subreddit=Republican\n",
      "loading https://api.pushshift.io/reddit/search/comment?sort=desc&size=1500&before=1588312758&after=180d&subreddit=Republican\n",
      "loading https://api.pushshift.io/reddit/search/comment?sort=desc&size=1500&before=1588033290&after=180d&subreddit=Republican\n",
      "loading https://api.pushshift.io/reddit/search/comment?sort=desc&size=1500&before=1587921085&after=180d&subreddit=Republican\n",
      "loading https://api.pushshift.io/reddit/search/comment?sort=desc&size=1500&before=1587740062&after=180d&subreddit=Republican\n",
      "loading https://api.pushshift.io/reddit/search/comment?sort=desc&size=1500&before=1587525835&after=180d&subreddit=Republican\n",
      "loading https://api.pushshift.io/reddit/search/comment?sort=desc&size=1500&before=1587264990&after=180d&subreddit=Republican\n",
      "loading https://api.pushshift.io/reddit/search/comment?sort=desc&size=1500&before=1587103387&after=180d&subreddit=Republican\n",
      "loading https://api.pushshift.io/reddit/search/comment?sort=desc&size=1500&before=1586923651&after=180d&subreddit=Republican\n",
      "loading https://api.pushshift.io/reddit/search/comment?sort=desc&size=1500&before=1586725384&after=180d&subreddit=Republican\n",
      "loading https://api.pushshift.io/reddit/search/comment?sort=desc&size=1500&before=1586497220&after=180d&subreddit=Republican\n",
      "loading https://api.pushshift.io/reddit/search/comment?sort=desc&size=1500&before=1586261979&after=180d&subreddit=Republican\n",
      "loading https://api.pushshift.io/reddit/search/comment?sort=desc&size=1500&before=1585967957&after=180d&subreddit=Republican\n",
      "loading https://api.pushshift.io/reddit/search/comment?sort=desc&size=1500&before=1585703695&after=180d&subreddit=Republican\n",
      "loading https://api.pushshift.io/reddit/search/comment?sort=desc&size=1500&before=1585413515&after=180d&subreddit=Republican\n",
      "loading https://api.pushshift.io/reddit/search/comment?sort=desc&size=1500&before=1585145341&after=180d&subreddit=Republican\n",
      "loading https://api.pushshift.io/reddit/search/comment?sort=desc&size=1500&before=1584842242&after=180d&subreddit=Republican\n",
      "loading https://api.pushshift.io/reddit/search/comment?sort=desc&size=1500&before=1584572275&after=180d&subreddit=Republican\n",
      "loading https://api.pushshift.io/reddit/search/comment?sort=desc&size=1500&before=1584277980&after=180d&subreddit=Republican\n",
      "loading https://api.pushshift.io/reddit/search/comment?sort=desc&size=1500&before=1583856678&after=180d&subreddit=Republican\n",
      "loading https://api.pushshift.io/reddit/search/comment?sort=desc&size=1500&before=1583437678&after=180d&subreddit=Republican\n",
      "loading https://api.pushshift.io/reddit/search/comment?sort=desc&size=1500&before=1583246062&after=180d&subreddit=Republican\n",
      "loading https://api.pushshift.io/reddit/search/comment?sort=desc&size=1500&before=1582926721&after=180d&subreddit=Republican\n",
      "loading https://api.pushshift.io/reddit/search/comment?sort=desc&size=1500&before=1582551795&after=180d&subreddit=Republican\n",
      "loading https://api.pushshift.io/reddit/search/comment?sort=desc&size=1500&before=1582254619&after=180d&subreddit=Republican\n",
      "loading https://api.pushshift.io/reddit/search/comment?sort=desc&size=1500&before=1581979132&after=180d&subreddit=Republican\n",
      "loading https://api.pushshift.io/reddit/search/comment?sort=desc&size=1500&before=1581607041&after=180d&subreddit=Republican\n",
      "loading https://api.pushshift.io/reddit/search/comment?sort=desc&size=1500&before=1581301241&after=180d&subreddit=Republican\n",
      "loading https://api.pushshift.io/reddit/search/comment?sort=desc&size=1500&before=1581007492&after=180d&subreddit=Republican\n",
      "loading https://api.pushshift.io/reddit/search/comment?sort=desc&size=1500&before=1580698957&after=180d&subreddit=Republican\n",
      "loading https://api.pushshift.io/reddit/search/comment?sort=desc&size=1500&before=1580322641&after=180d&subreddit=Republican\n",
      "loading https://api.pushshift.io/reddit/search/comment?sort=desc&size=1500&before=1579865999&after=180d&subreddit=Republican\n",
      "loading https://api.pushshift.io/reddit/search/comment?sort=desc&size=1500&before=1579255883&after=180d&subreddit=Republican\n",
      "loading https://api.pushshift.io/reddit/search/comment?sort=desc&size=1500&before=1578705734&after=180d&subreddit=Republican\n",
      "loading https://api.pushshift.io/reddit/search/comment?sort=desc&size=1500&before=1578300781&after=180d&subreddit=Republican\n",
      "loading https://api.pushshift.io/reddit/search/comment?sort=desc&size=1500&before=1577822358&after=180d&subreddit=Republican\n",
      "loading https://api.pushshift.io/reddit/search/comment?sort=desc&size=1500&before=1577214059&after=180d&subreddit=Republican\n",
      "loading https://api.pushshift.io/reddit/search/comment?sort=desc&size=1500&before=1576762556&after=180d&subreddit=Republican\n",
      "loading https://api.pushshift.io/reddit/search/comment?sort=desc&size=1500&before=1576426240&after=180d&subreddit=Republican\n",
      "loading https://api.pushshift.io/reddit/search/comment?sort=desc&size=1500&before=1575932503&after=180d&subreddit=Republican\n",
      "loading https://api.pushshift.io/reddit/search/comment?sort=desc&size=1500&before=1575594416&after=180d&subreddit=Republican\n"
     ]
    }
   ],
   "source": [
    "(comments_tmp, prev_end_date) = getPushshiftData(sub=sub_republican, after='180d', getComments=True)\n",
    "republican_comments = comments_tmp['data']\n",
    "while prev_end_date is not None:\n",
    "    (comments_tmp, prev_end_date) = getPushshiftData(sub=sub_republican, before=prev_end_date-1, after='180d', getComments=True)\n",
    "    if prev_end_date is not None:\n",
    "        republican_comments.extend(comments_tmp['data'])"
   ]
  },
  {
   "cell_type": "code",
   "execution_count": 9,
   "metadata": {},
   "outputs": [
    {
     "data": {
      "text/plain": [
       "1                   Downtown or Santa Monica or something?\n",
       "2        I don't live in USA. I'm from Europe. But seei...\n",
       "4             they are not the same, one is a toy!!!!!!!!!\n",
       "5                                                  Source?\n",
       "6        Jesus, this topic has been researched and stud...\n",
       "                               ...                        \n",
       "51639    Is this meant to be anti Trump or just hilario...\n",
       "51641    Sounds like wishful thinking. People still tal...\n",
       "51642    No clue, but not a lot of this is fact.  It's ...\n",
       "51643    Look, there is a struggle that the conservativ...\n",
       "51648             ..hopefully for a few election cycles...\n",
       "Name: body, Length: 40069, dtype: object"
      ]
     },
     "execution_count": 9,
     "metadata": {},
     "output_type": "execute_result"
    }
   ],
   "source": [
    "republican_comments_df = pd.DataFrame(republican_comments)\n",
    "republican_comments_text = clean_comments(republican_comments_df)\n",
    "republican_comments_text"
   ]
  },
  {
   "cell_type": "code",
   "execution_count": 10,
   "metadata": {
    "scrolled": true
   },
   "outputs": [
    {
     "name": "stdout",
     "output_type": "stream",
     "text": [
      "loading https://api.pushshift.io/reddit/search/comment?sort=desc&size=1500&after=180d&subreddit=democrats\n",
      "loading https://api.pushshift.io/reddit/search/comment?sort=desc&size=1500&before=1591027952&after=180d&subreddit=democrats\n",
      "loading https://api.pushshift.io/reddit/search/comment?sort=desc&size=1500&before=1590805440&after=180d&subreddit=democrats\n",
      "loading https://api.pushshift.io/reddit/search/comment?sort=desc&size=1500&before=1590666514&after=180d&subreddit=democrats\n",
      "loading https://api.pushshift.io/reddit/search/comment?sort=desc&size=1500&before=1590521410&after=180d&subreddit=democrats\n",
      "loading https://api.pushshift.io/reddit/search/comment?sort=desc&size=1500&before=1590329479&after=180d&subreddit=democrats\n",
      "loading https://api.pushshift.io/reddit/search/comment?sort=desc&size=1500&before=1590160112&after=180d&subreddit=democrats\n",
      "loading https://api.pushshift.io/reddit/search/comment?sort=desc&size=1500&before=1589981053&after=180d&subreddit=democrats\n",
      "loading https://api.pushshift.io/reddit/search/comment?sort=desc&size=1500&before=1589743045&after=180d&subreddit=democrats\n",
      "loading https://api.pushshift.io/reddit/search/comment?sort=desc&size=1500&before=1589511838&after=180d&subreddit=democrats\n",
      "loading https://api.pushshift.io/reddit/search/comment?sort=desc&size=1500&before=1589309908&after=180d&subreddit=democrats\n",
      "loading https://api.pushshift.io/reddit/search/comment?sort=desc&size=1500&before=1589136913&after=180d&subreddit=democrats\n",
      "loading https://api.pushshift.io/reddit/search/comment?sort=desc&size=1500&before=1588907509&after=180d&subreddit=democrats\n",
      "loading https://api.pushshift.io/reddit/search/comment?sort=desc&size=1500&before=1588729727&after=180d&subreddit=democrats\n",
      "loading https://api.pushshift.io/reddit/search/comment?sort=desc&size=1500&before=1588555774&after=180d&subreddit=democrats\n",
      "loading https://api.pushshift.io/reddit/search/comment?sort=desc&size=1500&before=1588355657&after=180d&subreddit=democrats\n",
      "loading https://api.pushshift.io/reddit/search/comment?sort=desc&size=1500&before=1588106333&after=180d&subreddit=democrats\n",
      "loading https://api.pushshift.io/reddit/search/comment?sort=desc&size=1500&before=1587936897&after=180d&subreddit=democrats\n",
      "loading https://api.pushshift.io/reddit/search/comment?sort=desc&size=1500&before=1587763943&after=180d&subreddit=democrats\n",
      "loading https://api.pushshift.io/reddit/search/comment?sort=desc&size=1500&before=1587518919&after=180d&subreddit=democrats\n",
      "loading https://api.pushshift.io/reddit/search/comment?sort=desc&size=1500&before=1587256249&after=180d&subreddit=democrats\n",
      "loading https://api.pushshift.io/reddit/search/comment?sort=desc&size=1500&before=1587063306&after=180d&subreddit=democrats\n",
      "loading https://api.pushshift.io/reddit/search/comment?sort=desc&size=1500&before=1586936958&after=180d&subreddit=democrats\n",
      "loading https://api.pushshift.io/reddit/search/comment?sort=desc&size=1500&before=1586806059&after=180d&subreddit=democrats\n",
      "loading https://api.pushshift.io/reddit/search/comment?sort=desc&size=1500&before=1586600483&after=180d&subreddit=democrats\n",
      "loading https://api.pushshift.io/reddit/search/comment?sort=desc&size=1500&before=1586444879&after=180d&subreddit=democrats\n",
      "loading https://api.pushshift.io/reddit/search/comment?sort=desc&size=1500&before=1586362575&after=180d&subreddit=democrats\n",
      "loading https://api.pushshift.io/reddit/search/comment?sort=desc&size=1500&before=1586123249&after=180d&subreddit=democrats\n",
      "loading https://api.pushshift.io/reddit/search/comment?sort=desc&size=1500&before=1585848044&after=180d&subreddit=democrats\n",
      "loading https://api.pushshift.io/reddit/search/comment?sort=desc&size=1500&before=1585584352&after=180d&subreddit=democrats\n",
      "loading https://api.pushshift.io/reddit/search/comment?sort=desc&size=1500&before=1585382373&after=180d&subreddit=democrats\n",
      "loading https://api.pushshift.io/reddit/search/comment?sort=desc&size=1500&before=1585276723&after=180d&subreddit=democrats\n",
      "loading https://api.pushshift.io/reddit/search/comment?sort=desc&size=1500&before=1585150080&after=180d&subreddit=democrats\n",
      "loading https://api.pushshift.io/reddit/search/comment?sort=desc&size=1500&before=1584991657&after=180d&subreddit=democrats\n",
      "loading https://api.pushshift.io/reddit/search/comment?sort=desc&size=1500&before=1584817707&after=180d&subreddit=democrats\n",
      "loading https://api.pushshift.io/reddit/search/comment?sort=desc&size=1500&before=1584622991&after=180d&subreddit=democrats\n",
      "loading https://api.pushshift.io/reddit/search/comment?sort=desc&size=1500&before=1584472078&after=180d&subreddit=democrats\n",
      "loading https://api.pushshift.io/reddit/search/comment?sort=desc&size=1500&before=1584306746&after=180d&subreddit=democrats\n",
      "loading https://api.pushshift.io/reddit/search/comment?sort=desc&size=1500&before=1584057673&after=180d&subreddit=democrats\n",
      "loading https://api.pushshift.io/reddit/search/comment?sort=desc&size=1500&before=1583943091&after=180d&subreddit=democrats\n",
      "loading https://api.pushshift.io/reddit/search/comment?sort=desc&size=1500&before=1583848549&after=180d&subreddit=democrats\n",
      "loading https://api.pushshift.io/reddit/search/comment?sort=desc&size=1500&before=1583690637&after=180d&subreddit=democrats\n",
      "loading https://api.pushshift.io/reddit/search/comment?sort=desc&size=1500&before=1583567776&after=180d&subreddit=democrats\n",
      "loading https://api.pushshift.io/reddit/search/comment?sort=desc&size=1500&before=1583439304&after=180d&subreddit=democrats\n",
      "loading https://api.pushshift.io/reddit/search/comment?sort=desc&size=1500&before=1583377148&after=180d&subreddit=democrats\n",
      "loading https://api.pushshift.io/reddit/search/comment?sort=desc&size=1500&before=1583305422&after=180d&subreddit=democrats\n",
      "loading https://api.pushshift.io/reddit/search/comment?sort=desc&size=1500&before=1583203784&after=180d&subreddit=democrats\n",
      "loading https://api.pushshift.io/reddit/search/comment?sort=desc&size=1500&before=1583107532&after=180d&subreddit=democrats\n",
      "loading https://api.pushshift.io/reddit/search/comment?sort=desc&size=1500&before=1582900035&after=180d&subreddit=democrats\n",
      "loading https://api.pushshift.io/reddit/search/comment?sort=desc&size=1500&before=1582623094&after=180d&subreddit=democrats\n",
      "loading https://api.pushshift.io/reddit/search/comment?sort=desc&size=1500&before=1582479226&after=180d&subreddit=democrats\n",
      "loading https://api.pushshift.io/reddit/search/comment?sort=desc&size=1500&before=1582385839&after=180d&subreddit=democrats\n",
      "loading https://api.pushshift.io/reddit/search/comment?sort=desc&size=1500&before=1582212482&after=180d&subreddit=democrats\n",
      "loading https://api.pushshift.io/reddit/search/comment?sort=desc&size=1500&before=1582084488&after=180d&subreddit=democrats\n",
      "loading https://api.pushshift.io/reddit/search/comment?sort=desc&size=1500&before=1581780635&after=180d&subreddit=democrats\n",
      "loading https://api.pushshift.io/reddit/search/comment?sort=desc&size=1500&before=1581602979&after=180d&subreddit=democrats\n",
      "loading https://api.pushshift.io/reddit/search/comment?sort=desc&size=1500&before=1581472952&after=180d&subreddit=democrats\n",
      "loading https://api.pushshift.io/reddit/search/comment?sort=desc&size=1500&before=1581319923&after=180d&subreddit=democrats\n",
      "loading https://api.pushshift.io/reddit/search/comment?sort=desc&size=1500&before=1581137623&after=180d&subreddit=democrats\n",
      "loading https://api.pushshift.io/reddit/search/comment?sort=desc&size=1500&before=1581004905&after=180d&subreddit=democrats\n",
      "loading https://api.pushshift.io/reddit/search/comment?sort=desc&size=1500&before=1580878413&after=180d&subreddit=democrats\n",
      "loading https://api.pushshift.io/reddit/search/comment?sort=desc&size=1500&before=1580732231&after=180d&subreddit=democrats\n",
      "loading https://api.pushshift.io/reddit/search/comment?sort=desc&size=1500&before=1580451799&after=180d&subreddit=democrats\n",
      "loading https://api.pushshift.io/reddit/search/comment?sort=desc&size=1500&before=1580175954&after=180d&subreddit=democrats\n",
      "loading https://api.pushshift.io/reddit/search/comment?sort=desc&size=1500&before=1579983116&after=180d&subreddit=democrats\n",
      "loading https://api.pushshift.io/reddit/search/comment?sort=desc&size=1500&before=1579650032&after=180d&subreddit=democrats\n",
      "loading https://api.pushshift.io/reddit/search/comment?sort=desc&size=1500&before=1579273267&after=180d&subreddit=democrats\n"
     ]
    },
    {
     "name": "stdout",
     "output_type": "stream",
     "text": [
      "loading https://api.pushshift.io/reddit/search/comment?sort=desc&size=1500&before=1578946593&after=180d&subreddit=democrats\n",
      "loading https://api.pushshift.io/reddit/search/comment?sort=desc&size=1500&before=1578637074&after=180d&subreddit=democrats\n",
      "loading https://api.pushshift.io/reddit/search/comment?sort=desc&size=1500&before=1578342654&after=180d&subreddit=democrats\n",
      "loading https://api.pushshift.io/reddit/search/comment?sort=desc&size=1500&before=1578070308&after=180d&subreddit=democrats\n",
      "loading https://api.pushshift.io/reddit/search/comment?sort=desc&size=1500&before=1577811822&after=180d&subreddit=democrats\n",
      "loading https://api.pushshift.io/reddit/search/comment?sort=desc&size=1500&before=1577577183&after=180d&subreddit=democrats\n",
      "loading https://api.pushshift.io/reddit/search/comment?sort=desc&size=1500&before=1577143514&after=180d&subreddit=democrats\n",
      "loading https://api.pushshift.io/reddit/search/comment?sort=desc&size=1500&before=1576890756&after=180d&subreddit=democrats\n",
      "loading https://api.pushshift.io/reddit/search/comment?sort=desc&size=1500&before=1576728989&after=180d&subreddit=democrats\n",
      "loading https://api.pushshift.io/reddit/search/comment?sort=desc&size=1500&before=1576474926&after=180d&subreddit=democrats\n",
      "loading https://api.pushshift.io/reddit/search/comment?sort=desc&size=1500&before=1576199321&after=180d&subreddit=democrats\n",
      "loading https://api.pushshift.io/reddit/search/comment?sort=desc&size=1500&before=1575907601&after=180d&subreddit=democrats\n",
      "loading https://api.pushshift.io/reddit/search/comment?sort=desc&size=1500&before=1575647617&after=180d&subreddit=democrats\n",
      "loading https://api.pushshift.io/reddit/search/comment?sort=desc&size=1500&before=1575594327&after=180d&subreddit=democrats\n"
     ]
    }
   ],
   "source": [
    "(comments_tmp, prev_end_date) = getPushshiftData(sub=sub_democrats, after='180d', getComments=True)\n",
    "democrats_comments = comments_tmp['data']\n",
    "while prev_end_date is not None:\n",
    "    (comments_tmp, prev_end_date) = getPushshiftData(sub=sub_democrats, before=prev_end_date-1, after='180d', getComments=True)\n",
    "    if prev_end_date is not None:\n",
    "        democrats_comments.extend(comments_tmp['data'])"
   ]
  },
  {
   "cell_type": "code",
   "execution_count": 11,
   "metadata": {},
   "outputs": [
    {
     "data": {
      "text/plain": [
       "0        Lol... God, first link on Google. Wrong!\\n\\nht...\n",
       "2        Ya, I don't think many people in the usa do that.\n",
       "3        There's a republican subreddit if you are unaw...\n",
       "4                    Trololol you're so salty.  Delicious.\n",
       "5        Trump has signed into law more gun restriction...\n",
       "                               ...                        \n",
       "79143    Make an arrangement with McKinley and update h...\n",
       "79144    While fair, the primary is the best time to do...\n",
       "79145    She basically made the old Kanye joke: she cou...\n",
       "79146    Oh, you must either not be american or you hav...\n",
       "79147                        So what do you want him to do\n",
       "Name: body, Length: 63516, dtype: object"
      ]
     },
     "execution_count": 11,
     "metadata": {},
     "output_type": "execute_result"
    }
   ],
   "source": [
    "democrats_comments_df = pd.DataFrame(democrats_comments)\n",
    "democrats_comments_text = clean_comments(democrats_comments_df)\n",
    "democrats_comments_text"
   ]
  },
  {
   "cell_type": "markdown",
   "metadata": {},
   "source": [
    "## Combining respective subreddit data and exporting"
   ]
  },
  {
   "cell_type": "code",
   "execution_count": 12,
   "metadata": {},
   "outputs": [],
   "source": [
    "ROOT_DIR = '../'\n",
    "republican_data = republican_comments_text.append(republican_submissions_text)\n",
    "democrats_data = democrats_comments_text.append(democrats_submissions_text)"
   ]
  },
  {
   "cell_type": "code",
   "execution_count": 13,
   "metadata": {},
   "outputs": [],
   "source": [
    "def combine_text(data):\n",
    "    result = ''\n",
    "    for text in range(0, len(data)):\n",
    "        if text > 0:\n",
    "            result += \" \"\n",
    "        result += data.values[text]\n",
    "    \n",
    "    #Cleaning text\n",
    "    result = html.unescape(result)\n",
    "    return result"
   ]
  },
  {
   "cell_type": "code",
   "execution_count": 14,
   "metadata": {},
   "outputs": [],
   "source": [
    "republican_result = combine_text(republican_data)"
   ]
  },
  {
   "cell_type": "code",
   "execution_count": 15,
   "metadata": {},
   "outputs": [],
   "source": [
    "with io.open(ROOT_DIR + \"data/republican_result.txt\", \"w\", encoding=\"utf-8\") as f:\n",
    "    f.write(republican_result)"
   ]
  },
  {
   "cell_type": "code",
   "execution_count": 16,
   "metadata": {},
   "outputs": [],
   "source": [
    "democrats_result = combine_text(democrats_data)"
   ]
  },
  {
   "cell_type": "code",
   "execution_count": 17,
   "metadata": {},
   "outputs": [],
   "source": [
    "with io.open(ROOT_DIR + \"data/democrats_result.txt\", \"w\", encoding=\"utf-8\") as f:\n",
    "    f.write(democrats_result)"
   ]
  },
  {
   "cell_type": "code",
   "execution_count": null,
   "metadata": {},
   "outputs": [],
   "source": []
  },
  {
   "cell_type": "code",
   "execution_count": null,
   "metadata": {},
   "outputs": [],
   "source": []
  }
 ],
 "metadata": {
  "kernelspec": {
   "display_name": "Python 3",
   "language": "python",
   "name": "python3"
  },
  "language_info": {
   "codemirror_mode": {
    "name": "ipython",
    "version": 3
   },
   "file_extension": ".py",
   "mimetype": "text/x-python",
   "name": "python",
   "nbconvert_exporter": "python",
   "pygments_lexer": "ipython3",
   "version": "3.7.4"
  }
 },
 "nbformat": 4,
 "nbformat_minor": 2
}
